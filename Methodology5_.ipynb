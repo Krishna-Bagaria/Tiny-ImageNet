{
 "cells": [
  {
   "cell_type": "markdown",
   "metadata": {},
   "source": [
    "### Canny + Hog + Hu Moments + haralick + ResNet + Pixels"
   ]
  },
  {
   "cell_type": "code",
   "execution_count": 4,
   "metadata": {},
   "outputs": [],
   "source": [
    "import csv\n",
    "import numpy as np\n",
    "import cv2\n",
    "import pandas as pd\n",
    "import matplotlib.pyplot as plt\n",
    "import os\n",
    "from sklearn import preprocessing\n",
    "from sklearn.ensemble import RandomForestClassifier\n",
    "import skimage\n",
    "from skimage.io import ImageCollection,concatenate_images,imread\n",
    "from skimage.transform import resize\n",
    "from skimage.color import gray2rgb\n",
    "from sklearn.model_selection import train_test_split\n",
    "from sklearn.decomposition import PCA\n",
    "from keras.layers import Flatten, Dense, Dropout\n",
    "from keras.preprocessing import image\n",
    "from keras.applications.resnet50 import preprocess_input\n",
    "from keras.applications.resnet50 import decode_predictions\n",
    "#from keras.applications.xception import Xception\n",
    "from keras.applications import resnet50\n",
    "from keras.applications import xception\n",
    "from keras.applications import vgg16\n",
    "from sklearn.ensemble import VotingClassifier\n",
    "\n",
    "#import mahotas as mt\n",
    "#import xgboost as xg\n",
    "\n"
   ]
  },
  {
   "cell_type": "code",
   "execution_count": 5,
   "metadata": {},
   "outputs": [],
   "source": [
    "\n",
    "def returnImagesAndLabels(path):\n",
    "  \n",
    "    lab = pd.read_csv('dataset/train.csv')\n",
    "    images = []\n",
    "    files = []\n",
    "    labels = []\n",
    "    for index, row in lab.iterrows():\n",
    "        files.append(row['Id'])\n",
    "        labels.append(row['Category'])\n",
    "    target = []\n",
    "    #img_c = cv2.imread(path+ '/'+ files[i])\n",
    "    #img_c = cv2.cvtColor(img_c,cv2.COLOR_BGR2HSV)\n",
    "    \n",
    "    #cv2.normalize(histr,histr)\n",
    "    #fd = histr.flatten()\n",
    "    #hist.append(fd)\n",
    "    for i in range(len(files)):\n",
    "        name = path+'/'+files[i]\n",
    "        overallPath = path+'train/'+files[i]\n",
    "        img = cv2.imread(path+ 'train/'+ files[i],0)\n",
    "        #histr = cv2.calcHist([img],[0,1,2],None,[8,8,8],[0,256,0,256,0,256]) \n",
    "        images.append(img)\n",
    "        \n",
    "        target.append(labels[i])\n",
    "        \n",
    "    return images,target\n",
    "        \n",
    "        \n"
   ]
  },
  {
   "cell_type": "code",
   "execution_count": 6,
   "metadata": {},
   "outputs": [],
   "source": [
    "#extracting images and their target/labels\n",
    "images, target = returnImagesAndLabels('dataset/')\n",
    "\n",
    "#converting them to numpy arrays\n",
    "images = np.array(images)\n",
    "target = np.array(target)\n"
   ]
  },
  {
   "cell_type": "code",
   "execution_count": 7,
   "metadata": {},
   "outputs": [],
   "source": [
    "\n",
    "\n",
    "#utility functions for pickling \n",
    "# dumping into pickle\n",
    "def pickleDump(dataToBeDumoped,name):\n",
    "    import pickle \n",
    "    dbfile = open(name, 'ab') \n",
    "    pickle.dump(dataToBeDumoped,dbfile)\n",
    "    dbfile.close()\n",
    "\n",
    "    \n",
    "#loadingPickle\n",
    "def loadPickleData(nameOfPickleFile):\n",
    "    import pickle \n",
    "    dbfile = open(nameOfPickleFile, 'rb')      \n",
    "    loaded = pickle.load(dbfile)\n",
    "    \n",
    "    return loaded"
   ]
  },
  {
   "cell_type": "code",
   "execution_count": 8,
   "metadata": {},
   "outputs": [],
   "source": [
    "#give me images array to extract hog features from them\n",
    "def hogFeatures(pixels):\n",
    "    from skimage.feature import hog\n",
    "    hogs = []\n",
    "    for i in range(len(pixels)):\n",
    "        if(pixels[i].shape == 3):\n",
    "            fd = hog(pixels[i], orientations=16, pixels_per_cell=(16, 16),cells_per_block=(2, 2),multichannel=True)\n",
    "            hogs.append(fd)\n",
    "        else:\n",
    "            fd = hog(pixels[i], orientations=16, pixels_per_cell=(16, 16),cells_per_block=(2, 2))\n",
    "            hogs.append(fd)\n",
    "    return hogs\n"
   ]
  },
  {
   "cell_type": "code",
   "execution_count": 9,
   "metadata": {},
   "outputs": [
    {
     "name": "stdout",
     "output_type": "stream",
     "text": [
      "(10000, 576)\n"
     ]
    }
   ],
   "source": [
    "#pass images as arguements\n",
    "hog = hogFeatures(images)\n",
    "hog = np.array(hog)\n",
    "print(hog.shape)"
   ]
  },
  {
   "cell_type": "code",
   "execution_count": 10,
   "metadata": {},
   "outputs": [],
   "source": [
    "\n",
    "\n",
    "\n",
    "# To plot \n",
    "def eigen_energy_plot(data):\n",
    "    pca = PCA()\n",
    "    pca.fit(data)\n",
    "    cumsum = np.cumsum(pca.explained_variance_ratio_)*100\n",
    "    d = [n for n in range(len(cumsum))]\n",
    "    plt.figure(figsize=(10, 10))\n",
    "    plt.plot(d,cumsum, color = 'green',label='EigenEnergy')\n",
    "    plt.title('number of principal components vs eigen energy:  HOG Features')\n",
    "    plt.ylabel('Eigen Energy')\n",
    "    plt.xlabel('ALL Principal components')\n",
    "    plt.axhline(y = 95, color='k', linestyle='--', label = '95% Eigen Energy')\n",
    "    plt.legend(loc='best')\n",
    "    \n",
    "\n",
    "\n",
    "    "
   ]
  },
  {
   "cell_type": "code",
   "execution_count": 11,
   "metadata": {},
   "outputs": [
    {
     "data": {
      "image/png": "[encoded data removed]",
      "text/plain": [
       "<Figure size 720x720 with 1 Axes>"
      ]
     },
     "metadata": {
      "needs_background": "light"
     },
     "output_type": "display_data"
    }
   ],
   "source": [
    "eigen_energy_plot(hog)"
   ]
  },
  {
   "cell_type": "code",
   "execution_count": 12,
   "metadata": {},
   "outputs": [],
   "source": [
    "def extractHaralickPickle(path):\n",
    "    return loadPickleData(path+'haralick')\n",
    "haralick = extractHaralickPickle('')\n",
    "\n",
    "hog_haralick = np.concatenate((hog,haralick),axis=1)\n",
    "def getHuMoments(path):\n",
    "    return loadPickleData(path+'humom')\n",
    "\n",
    "humom = getHuMoments('')\n",
    "\n",
    "hog_humom_haralick = np.concatenate((humom,hog,haralick),axis=1)"
   ]
  },
  {
   "cell_type": "code",
   "execution_count": 13,
   "metadata": {},
   "outputs": [],
   "source": [
    "from keras import applications\n",
    "model = applications.resnet.ResNet50(include_top=True, weights='imagenet', input_tensor=None, input_shape=None, pooling=None, classes=1000)"
   ]
  },
  {
   "cell_type": "code",
   "execution_count": 14,
   "metadata": {},
   "outputs": [],
   "source": [
    "#model.summary()"
   ]
  },
  {
   "cell_type": "code",
   "execution_count": 15,
   "metadata": {},
   "outputs": [],
   "source": [
    "from keras.preprocessing import image\n",
    "from keras.applications.resnet50 import preprocess_input\n",
    "from keras.applications.resnet50 import decode_predictions\n",
    "path = 'dataset/train/train_8084.jpg'\n"
   ]
  },
  {
   "cell_type": "code",
   "execution_count": null,
   "metadata": {},
   "outputs": [],
   "source": []
  },
  {
   "cell_type": "code",
   "execution_count": 13,
   "metadata": {},
   "outputs": [],
   "source": [
    "def returnKerasImages(path):\n",
    "    lab = pd.read_csv('dataset/train.csv')\n",
    "    images = []\n",
    "    files = []\n",
    "    labels = []\n",
    "    for index, row in lab.iterrows():\n",
    "        files.append(row['Id'])\n",
    "        labels.append(row['Category'])\n",
    "#        print()\n",
    "    print(files[0])\n",
    "    target = []\n",
    "    for i in range(len(files)):\n",
    "#        print(i)\n",
    "        name = path+'/'+files[i]\n",
    "        overallPath = path+'train/'+files[i]\n",
    " \n",
    "        img = image.load_img(overallPath, target_size=(224, 224))\n",
    "        x = image.img_to_array(img)\n",
    "        x = np.expand_dims(x, axis=0)\n",
    "        x = resnet50.preprocess_input(x)\n",
    "\n",
    "        images.append(x)\n",
    "        \n",
    "        target.append(labels[i])\n",
    "        \n",
    "    return images,target\n",
    "        \n",
    "        \n",
    "\n"
   ]
  },
  {
   "cell_type": "code",
   "execution_count": 14,
   "metadata": {},
   "outputs": [
    {
     "name": "stdout",
     "output_type": "stream",
     "text": [
      "train_0.jpg\n"
     ]
    }
   ],
   "source": [
    "keras_images, target = returnKerasImages('dataset/')"
   ]
  },
  {
   "cell_type": "code",
   "execution_count": 15,
   "metadata": {},
   "outputs": [],
   "source": [
    "#input a small number of n here to test the methodology because n = 10,000 will take forever on CPU. \n",
    "# n = 500, gives 65% accuracy. increasing n increases the accuracy\n",
    "# here n is the number of samples. \n",
    "n = 500\n",
    "def resnet_features(keras_images):\n",
    "    res_features = []\n",
    "    for i in range((n)):\n",
    "        res_features.append(model.predict(keras_images[i]))\n",
    "    return res_features\n",
    "        \n",
    "    "
   ]
  },
  {
   "cell_type": "code",
   "execution_count": 16,
   "metadata": {},
   "outputs": [
    {
     "name": "stdout",
     "output_type": "stream",
     "text": [
      "Train accuracy:  1.0\n",
      "Test accuracy:  0.59\n"
     ]
    }
   ],
   "source": [
    "res_feats = resnet_features(keras_images)\n",
    "\n",
    "\n",
    "res_feats = np.array(res_feats).reshape(n,1000)\n",
    "\n",
    "X_train, X_test, y_train, y_test = train_test_split(res_feats, target[0:n], test_size=0.20, random_state=42)\n",
    "#X_train, X_test, y_train, y_test = train_test_split(X_train, y_train, test_size=20, random_state=42)\n",
    "\n",
    "from sklearn.ensemble import RandomForestClassifier\n",
    "rf= RandomForestClassifier(n_estimators=250,max_features='sqrt',n_jobs=-1,random_state=10)\n",
    "\n",
    "rf.fit(X_train, y_train)\n",
    "print(\"Train accuracy: \", rf.score(X_train,y_train))\n",
    "print(\"Test accuracy: \", rf.score(X_test,y_test))\n",
    "\n",
    "\n",
    "\n",
    "\n"
   ]
  },
  {
   "cell_type": "code",
   "execution_count": 17,
   "metadata": {},
   "outputs": [],
   "source": [
    "from skimage import feature\n",
    "def getCannyEdges(images):\n",
    "    cannies = []\n",
    "    for i in range(len(images)):\n",
    "        cannies.append(feature.canny(images[i]).flatten())\n",
    "    return cannies\n",
    "cannies = getCannyEdges(images)\n",
    "\n",
    "cannies = np.array(cannies)"
   ]
  },
  {
   "cell_type": "code",
   "execution_count": 18,
   "metadata": {},
   "outputs": [],
   "source": [
    "def rgb2gray(rgb):\n",
    "    return np.dot(rgb[...,:3], [0.2989, 0.5870, 0.1140])\n",
    "\n",
    "\n",
    "def getFlattenedPixelVector(images):\n",
    "    pixels = []\n",
    "    for i in range(len(images)):\n",
    "        if((len(images[i].shape)) == 3):\n",
    "            pixels.append(rgb2gray(images[i]).flatten())\n",
    "        else: \n",
    "            pixels.append(images[i].flatten())\n",
    "    return pixels\n",
    "    "
   ]
  },
  {
   "cell_type": "code",
   "execution_count": 19,
   "metadata": {},
   "outputs": [],
   "source": [
    "pixels = getFlattenedPixelVector(images)\n",
    "pixels = np.array(pixels)\n",
    "#print(pixels.shape)"
   ]
  },
  {
   "cell_type": "code",
   "execution_count": 20,
   "metadata": {},
   "outputs": [],
   "source": [
    "temp = np.concatenate((hog_humom_haralick[0:500],res_feats,cannies[0:500],pixels[0:500]),axis=1)\n"
   ]
  },
  {
   "cell_type": "code",
   "execution_count": 21,
   "metadata": {},
   "outputs": [],
   "source": [
    "X_train, X_test, y_train, y_test = train_test_split(temp, target[0:500], test_size=20, random_state=42)\n",
    "#X_train, X_test, y_train, y_test = train_test_split(X_train, y_train, test_size=20, random_state=42)"
   ]
  },
  {
   "cell_type": "code",
   "execution_count": 22,
   "metadata": {},
   "outputs": [
    {
     "name": "stdout",
     "output_type": "stream",
     "text": [
      "Train accuracy:  1.0\n",
      "Test accuracy:  0.65\n"
     ]
    }
   ],
   "source": [
    "from sklearn.ensemble import RandomForestClassifier\n",
    "rf= RandomForestClassifier(n_estimators=500,max_features='sqrt',n_jobs=-1,random_state=10)\n",
    "\n",
    "rf.fit(X_train, y_train)\n",
    "print(\"Train accuracy: \", rf.score(X_train,y_train))\n",
    "print(\"Test accuracy: \", rf.score(X_test,y_test))\n",
    "\n",
    "\n",
    "\n",
    "\n",
    "\n",
    "\n"
   ]
  },
  {
   "cell_type": "code",
   "execution_count": 23,
   "metadata": {},
   "outputs": [
    {
     "data": {
      "text/plain": [
       "(500, 9788)"
      ]
     },
     "execution_count": 23,
     "metadata": {},
     "output_type": "execute_result"
    }
   ],
   "source": [
    "temp.shape"
   ]
  },
  {
   "cell_type": "code",
   "execution_count": null,
   "metadata": {},
   "outputs": [],
   "source": []
  }
 ],
 "metadata": {
  "kernelspec": {
   "display_name": "Python 3",
   "language": "python",
   "name": "python3"
  },
  "language_info": {
   "codemirror_mode": {
    "name": "ipython",
    "version": 3
   },
   "file_extension": ".py",
   "mimetype": "text/x-python",
   "name": "python",
   "nbconvert_exporter": "python",
   "pygments_lexer": "ipython3",
   "version": "3.7.3"
  }
 },
 "nbformat": 4,
 "nbformat_minor": 2
}
