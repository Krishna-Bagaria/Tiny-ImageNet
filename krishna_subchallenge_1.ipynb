{
  "nbformat": 4,
  "nbformat_minor": 0,
  "metadata": {
    "colab": {
      "name": "krishna@subchallenge_1.ipynb",
      "provenance": [],
      "include_colab_link": true
    },
    "kernelspec": {
      "name": "python3",
      "display_name": "Python 3"
    }
  },
  "cells": [
    {
      "cell_type": "markdown",
      "metadata": {
        "id": "view-in-github",
        "colab_type": "text"
      },
      "source": [
        "<a href=\"https://colab.research.google.com/github/Krishna-Bagaria/Tiny-ImageNet/blob/master/krishna_subchallenge_1.ipynb\" target=\"_parent\"><img src=\"https://colab.research.google.com/assets/colab-badge.svg\" alt=\"Open In Colab\"/></a>"
      ]
    },
    {
      "cell_type": "code",
      "metadata": {
        "id": "FHUHCNiTy3Ny",
        "colab_type": "code",
        "outputId": "e419bd5e-d309-40b9-8868-297ddcc17c18",
        "colab": {
          "base_uri": "https://localhost:8080/",
          "height": 129
        }
      },
      "source": [
        "from google.colab import drive\n",
        "ROOT = \"/content/drive\" \n",
        "drive.mount(ROOT) "
      ],
      "execution_count": 0,
      "outputs": [
        {
          "output_type": "stream",
          "text": [
            "Go to this URL in a browser: https://accounts.google.com/o/oauth2/auth?client_id=947318989803-6bn6qk8qdgf4n4g3pfee6491hc0brc4i.apps.googleusercontent.com&redirect_uri=urn%3Aietf%3Awg%3Aoauth%3A2.0%3Aoob&scope=email%20https%3A%2F%2Fwww.googleapis.com%2Fauth%2Fdocs.test%20https%3A%2F%2Fwww.googleapis.com%2Fauth%2Fdrive%20https%3A%2F%2Fwww.googleapis.com%2Fauth%2Fdrive.photos.readonly%20https%3A%2F%2Fwww.googleapis.com%2Fauth%2Fpeopleapi.readonly&response_type=code\n",
            "\n",
            "Enter your authorization code:\n",
            "··········\n",
            "Mounted at /content/drive\n"
          ],
          "name": "stdout"
        }
      ]
    },
    {
      "cell_type": "code",
      "metadata": {
        "id": "ZwGh5-Avy_wJ",
        "colab_type": "code",
        "colab": {}
      },
      "source": [
        "from os.path import join\n",
        "PROJ = \"My Drive/IP_Project/\"\n",
        "PROJECT_PATH = join(ROOT, PROJ)"
      ],
      "execution_count": 0,
      "outputs": []
    },
    {
      "cell_type": "code",
      "metadata": {
        "id": "TkQxGLDLzOJV",
        "colab_type": "code",
        "colab": {}
      },
      "source": [
        "import numpy as np\n",
        "import pandas as pd\n",
        "import codecs\n",
        "import pickle\n",
        "import pandas_profiling\n",
        "from sklearn.ensemble import RandomForestRegressor\n",
        "from sklearn.preprocessing import StandardScaler\n",
        "from sklearn.linear_model import LinearRegression, SGDRegressor\n",
        "import os\n",
        "from sklearn import linear_model"
      ],
      "execution_count": 0,
      "outputs": []
    },
    {
      "cell_type": "code",
      "metadata": {
        "id": "0-y6oVBnzTDg",
        "colab_type": "code",
        "colab": {}
      },
      "source": [
        "import os\n",
        "\n",
        "dataset_path = PROJECT_PATH + 'dataset'\n",
        "results_path = PROJECT_PATH + 'result'\n",
        "object_path = PROJECT_PATH + 'pickle/'\n",
        "cell_lines_path = dataset_path+ '/Data/single_cell_phospo/complete_cell_lines'"
      ],
      "execution_count": 0,
      "outputs": []
    },
    {
      "cell_type": "code",
      "metadata": {
        "id": "ezYmu26EzXah",
        "colab_type": "code",
        "colab": {}
      },
      "source": [
        "types = {'cellID':'uint16','time':'float16', 'treatment':'category', 'cell_line':'category',\n",
        "        'fileID':'uint16','b.CATENIN':'float16','cleavedCas':'float16', \n",
        "         'CyclinB':'float16', 'GAPDH':'float16', 'IdU':'float16',\n",
        "         'Ki.67':'float16', 'p.4EBP1':'float16','p.Akt.Ser473.':'float16',\n",
        "         'p.AKT.Thr308.':'float16', 'p.AMPK':'float16', 'p.BTK':'float16', \n",
        "         'p.CREB':'float16', 'p.ERK':'float16', 'p.FAK':'float16', 'p.GSK3b':'float16',\n",
        "         'p.H3':'float16', 'p.HER2':'float16', 'p.JNK':'float16', 'p.MAP2K3':'float16',\n",
        "         'p.MAPKAPK2':'float16','p.MEK':'float16', 'p.MKK3.MKK6':'float16',\n",
        "         'p.MKK4':'float16', 'p.NFkB':'float16', 'p.p38':'float16', 'p.p53':'float16',\n",
        "         'p.p90RSK':'float16', 'p.PDPK1':'float16', 'p.PLCg2':'float16', 'p.RB':'float16',\n",
        "         'p.S6':'float16', 'p.S6K':'float16', 'p.SMAD23':'float16','p.SRC':'float16', \n",
        "         'p.STAT1':'float16', 'p.STAT3':'float16', 'p.STAT5':'float16'}\n",
        "\n",
        "files = [file for file in os.listdir(cell_lines_path) if file.endswith('.csv')]"
      ],
      "execution_count": 0,
      "outputs": []
    },
    {
      "cell_type": "code",
      "metadata": {
        "id": "SLbBsfKrzv3R",
        "colab_type": "code",
        "colab": {}
      },
      "source": [
        "np.random.shuffle(files)"
      ],
      "execution_count": 0,
      "outputs": []
    },
    {
      "cell_type": "code",
      "metadata": {
        "id": "-XqyYASY1Mfe",
        "colab_type": "code",
        "outputId": "778ca5e0-bf65-4b42-c42a-138b8f637f9d",
        "colab": {
          "base_uri": "https://localhost:8080/",
          "height": 545
        }
      },
      "source": [
        "cell_lines_data = pd.concat([pd.read_csv(f'{cell_lines_path}/{file}', dtype=types, sep=',') for file in files])"
      ],
      "execution_count": 0,
      "outputs": [
        {
          "output_type": "error",
          "ename": "KeyboardInterrupt",
          "evalue": "ignored",
          "traceback": [
            "\u001b[0;31m---------------------------------------------------------------------------\u001b[0m",
            "\u001b[0;31mKeyboardInterrupt\u001b[0m                         Traceback (most recent call last)",
            "\u001b[0;32m<ipython-input-9-7ebb7410c944>\u001b[0m in \u001b[0;36m<module>\u001b[0;34m()\u001b[0m\n\u001b[0;32m----> 1\u001b[0;31m \u001b[0mcell_lines_data\u001b[0m \u001b[0;34m=\u001b[0m \u001b[0mpd\u001b[0m\u001b[0;34m.\u001b[0m\u001b[0mconcat\u001b[0m\u001b[0;34m(\u001b[0m\u001b[0;34m[\u001b[0m\u001b[0mpd\u001b[0m\u001b[0;34m.\u001b[0m\u001b[0mread_csv\u001b[0m\u001b[0;34m(\u001b[0m\u001b[0;34mf'{cell_lines_path}/{file}'\u001b[0m\u001b[0;34m,\u001b[0m \u001b[0mdtype\u001b[0m\u001b[0;34m=\u001b[0m\u001b[0mtypes\u001b[0m\u001b[0;34m,\u001b[0m \u001b[0msep\u001b[0m\u001b[0;34m=\u001b[0m\u001b[0;34m','\u001b[0m\u001b[0;34m)\u001b[0m \u001b[0;32mfor\u001b[0m \u001b[0mfile\u001b[0m \u001b[0;32min\u001b[0m \u001b[0mfiles\u001b[0m\u001b[0;34m]\u001b[0m\u001b[0;34m)\u001b[0m\u001b[0;34m\u001b[0m\u001b[0;34m\u001b[0m\u001b[0m\n\u001b[0m",
            "\u001b[0;32m<ipython-input-9-7ebb7410c944>\u001b[0m in \u001b[0;36m<listcomp>\u001b[0;34m(.0)\u001b[0m\n\u001b[0;32m----> 1\u001b[0;31m \u001b[0mcell_lines_data\u001b[0m \u001b[0;34m=\u001b[0m \u001b[0mpd\u001b[0m\u001b[0;34m.\u001b[0m\u001b[0mconcat\u001b[0m\u001b[0;34m(\u001b[0m\u001b[0;34m[\u001b[0m\u001b[0mpd\u001b[0m\u001b[0;34m.\u001b[0m\u001b[0mread_csv\u001b[0m\u001b[0;34m(\u001b[0m\u001b[0;34mf'{cell_lines_path}/{file}'\u001b[0m\u001b[0;34m,\u001b[0m \u001b[0mdtype\u001b[0m\u001b[0;34m=\u001b[0m\u001b[0mtypes\u001b[0m\u001b[0;34m,\u001b[0m \u001b[0msep\u001b[0m\u001b[0;34m=\u001b[0m\u001b[0;34m','\u001b[0m\u001b[0;34m)\u001b[0m \u001b[0;32mfor\u001b[0m \u001b[0mfile\u001b[0m \u001b[0;32min\u001b[0m \u001b[0mfiles\u001b[0m\u001b[0;34m]\u001b[0m\u001b[0;34m)\u001b[0m\u001b[0;34m\u001b[0m\u001b[0;34m\u001b[0m\u001b[0m\n\u001b[0m",
            "\u001b[0;32m/usr/local/lib/python3.6/dist-packages/pandas/io/parsers.py\u001b[0m in \u001b[0;36mparser_f\u001b[0;34m(filepath_or_buffer, sep, delimiter, header, names, index_col, usecols, squeeze, prefix, mangle_dupe_cols, dtype, engine, converters, true_values, false_values, skipinitialspace, skiprows, skipfooter, nrows, na_values, keep_default_na, na_filter, verbose, skip_blank_lines, parse_dates, infer_datetime_format, keep_date_col, date_parser, dayfirst, iterator, chunksize, compression, thousands, decimal, lineterminator, quotechar, quoting, doublequote, escapechar, comment, encoding, dialect, tupleize_cols, error_bad_lines, warn_bad_lines, delim_whitespace, low_memory, memory_map, float_precision)\u001b[0m\n\u001b[1;32m    700\u001b[0m                     skip_blank_lines=skip_blank_lines)\n\u001b[1;32m    701\u001b[0m \u001b[0;34m\u001b[0m\u001b[0m\n\u001b[0;32m--> 702\u001b[0;31m         \u001b[0;32mreturn\u001b[0m \u001b[0m_read\u001b[0m\u001b[0;34m(\u001b[0m\u001b[0mfilepath_or_buffer\u001b[0m\u001b[0;34m,\u001b[0m \u001b[0mkwds\u001b[0m\u001b[0;34m)\u001b[0m\u001b[0;34m\u001b[0m\u001b[0;34m\u001b[0m\u001b[0m\n\u001b[0m\u001b[1;32m    703\u001b[0m \u001b[0;34m\u001b[0m\u001b[0m\n\u001b[1;32m    704\u001b[0m     \u001b[0mparser_f\u001b[0m\u001b[0;34m.\u001b[0m\u001b[0m__name__\u001b[0m \u001b[0;34m=\u001b[0m \u001b[0mname\u001b[0m\u001b[0;34m\u001b[0m\u001b[0;34m\u001b[0m\u001b[0m\n",
            "\u001b[0;32m/usr/local/lib/python3.6/dist-packages/pandas/io/parsers.py\u001b[0m in \u001b[0;36m_read\u001b[0;34m(filepath_or_buffer, kwds)\u001b[0m\n\u001b[1;32m    433\u001b[0m \u001b[0;34m\u001b[0m\u001b[0m\n\u001b[1;32m    434\u001b[0m     \u001b[0;32mtry\u001b[0m\u001b[0;34m:\u001b[0m\u001b[0;34m\u001b[0m\u001b[0;34m\u001b[0m\u001b[0m\n\u001b[0;32m--> 435\u001b[0;31m         \u001b[0mdata\u001b[0m \u001b[0;34m=\u001b[0m \u001b[0mparser\u001b[0m\u001b[0;34m.\u001b[0m\u001b[0mread\u001b[0m\u001b[0;34m(\u001b[0m\u001b[0mnrows\u001b[0m\u001b[0;34m)\u001b[0m\u001b[0;34m\u001b[0m\u001b[0;34m\u001b[0m\u001b[0m\n\u001b[0m\u001b[1;32m    436\u001b[0m     \u001b[0;32mfinally\u001b[0m\u001b[0;34m:\u001b[0m\u001b[0;34m\u001b[0m\u001b[0;34m\u001b[0m\u001b[0m\n\u001b[1;32m    437\u001b[0m         \u001b[0mparser\u001b[0m\u001b[0;34m.\u001b[0m\u001b[0mclose\u001b[0m\u001b[0;34m(\u001b[0m\u001b[0;34m)\u001b[0m\u001b[0;34m\u001b[0m\u001b[0;34m\u001b[0m\u001b[0m\n",
            "\u001b[0;32m/usr/local/lib/python3.6/dist-packages/pandas/io/parsers.py\u001b[0m in \u001b[0;36mread\u001b[0;34m(self, nrows)\u001b[0m\n\u001b[1;32m   1137\u001b[0m     \u001b[0;32mdef\u001b[0m \u001b[0mread\u001b[0m\u001b[0;34m(\u001b[0m\u001b[0mself\u001b[0m\u001b[0;34m,\u001b[0m \u001b[0mnrows\u001b[0m\u001b[0;34m=\u001b[0m\u001b[0;32mNone\u001b[0m\u001b[0;34m)\u001b[0m\u001b[0;34m:\u001b[0m\u001b[0;34m\u001b[0m\u001b[0;34m\u001b[0m\u001b[0m\n\u001b[1;32m   1138\u001b[0m         \u001b[0mnrows\u001b[0m \u001b[0;34m=\u001b[0m \u001b[0m_validate_integer\u001b[0m\u001b[0;34m(\u001b[0m\u001b[0;34m'nrows'\u001b[0m\u001b[0;34m,\u001b[0m \u001b[0mnrows\u001b[0m\u001b[0;34m)\u001b[0m\u001b[0;34m\u001b[0m\u001b[0;34m\u001b[0m\u001b[0m\n\u001b[0;32m-> 1139\u001b[0;31m         \u001b[0mret\u001b[0m \u001b[0;34m=\u001b[0m \u001b[0mself\u001b[0m\u001b[0;34m.\u001b[0m\u001b[0m_engine\u001b[0m\u001b[0;34m.\u001b[0m\u001b[0mread\u001b[0m\u001b[0;34m(\u001b[0m\u001b[0mnrows\u001b[0m\u001b[0;34m)\u001b[0m\u001b[0;34m\u001b[0m\u001b[0;34m\u001b[0m\u001b[0m\n\u001b[0m\u001b[1;32m   1140\u001b[0m \u001b[0;34m\u001b[0m\u001b[0m\n\u001b[1;32m   1141\u001b[0m         \u001b[0;31m# May alter columns / col_dict\u001b[0m\u001b[0;34m\u001b[0m\u001b[0;34m\u001b[0m\u001b[0;34m\u001b[0m\u001b[0m\n",
            "\u001b[0;32m/usr/local/lib/python3.6/dist-packages/pandas/io/parsers.py\u001b[0m in \u001b[0;36mread\u001b[0;34m(self, nrows)\u001b[0m\n\u001b[1;32m   1993\u001b[0m     \u001b[0;32mdef\u001b[0m \u001b[0mread\u001b[0m\u001b[0;34m(\u001b[0m\u001b[0mself\u001b[0m\u001b[0;34m,\u001b[0m \u001b[0mnrows\u001b[0m\u001b[0;34m=\u001b[0m\u001b[0;32mNone\u001b[0m\u001b[0;34m)\u001b[0m\u001b[0;34m:\u001b[0m\u001b[0;34m\u001b[0m\u001b[0;34m\u001b[0m\u001b[0m\n\u001b[1;32m   1994\u001b[0m         \u001b[0;32mtry\u001b[0m\u001b[0;34m:\u001b[0m\u001b[0;34m\u001b[0m\u001b[0;34m\u001b[0m\u001b[0m\n\u001b[0;32m-> 1995\u001b[0;31m             \u001b[0mdata\u001b[0m \u001b[0;34m=\u001b[0m \u001b[0mself\u001b[0m\u001b[0;34m.\u001b[0m\u001b[0m_reader\u001b[0m\u001b[0;34m.\u001b[0m\u001b[0mread\u001b[0m\u001b[0;34m(\u001b[0m\u001b[0mnrows\u001b[0m\u001b[0;34m)\u001b[0m\u001b[0;34m\u001b[0m\u001b[0;34m\u001b[0m\u001b[0m\n\u001b[0m\u001b[1;32m   1996\u001b[0m         \u001b[0;32mexcept\u001b[0m \u001b[0mStopIteration\u001b[0m\u001b[0;34m:\u001b[0m\u001b[0;34m\u001b[0m\u001b[0;34m\u001b[0m\u001b[0m\n\u001b[1;32m   1997\u001b[0m             \u001b[0;32mif\u001b[0m \u001b[0mself\u001b[0m\u001b[0;34m.\u001b[0m\u001b[0m_first_chunk\u001b[0m\u001b[0;34m:\u001b[0m\u001b[0;34m\u001b[0m\u001b[0;34m\u001b[0m\u001b[0m\n",
            "\u001b[0;32mpandas/_libs/parsers.pyx\u001b[0m in \u001b[0;36mpandas._libs.parsers.TextReader.read\u001b[0;34m()\u001b[0m\n",
            "\u001b[0;32mpandas/_libs/parsers.pyx\u001b[0m in \u001b[0;36mpandas._libs.parsers.TextReader._read_low_memory\u001b[0;34m()\u001b[0m\n",
            "\u001b[0;32mpandas/_libs/parsers.pyx\u001b[0m in \u001b[0;36mpandas._libs.parsers.TextReader._read_rows\u001b[0;34m()\u001b[0m\n",
            "\u001b[0;32mpandas/_libs/parsers.pyx\u001b[0m in \u001b[0;36mpandas._libs.parsers.TextReader._convert_column_data\u001b[0;34m()\u001b[0m\n",
            "\u001b[0;32mpandas/_libs/parsers.pyx\u001b[0m in \u001b[0;36mpandas._libs.parsers.TextReader._convert_tokens\u001b[0;34m()\u001b[0m\n",
            "\u001b[0;32mpandas/_libs/parsers.pyx\u001b[0m in \u001b[0;36mpandas._libs.parsers.TextReader._convert_with_dtype\u001b[0;34m()\u001b[0m\n",
            "\u001b[0;32m/usr/local/lib/python3.6/dist-packages/pandas/core/dtypes/common.py\u001b[0m in \u001b[0;36mis_categorical_dtype\u001b[0;34m(arr_or_dtype)\u001b[0m\n\u001b[1;32m    570\u001b[0m \u001b[0;34m\u001b[0m\u001b[0m\n\u001b[1;32m    571\u001b[0m \u001b[0;34m\u001b[0m\u001b[0m\n\u001b[0;32m--> 572\u001b[0;31m \u001b[0;32mdef\u001b[0m \u001b[0mis_categorical_dtype\u001b[0m\u001b[0;34m(\u001b[0m\u001b[0marr_or_dtype\u001b[0m\u001b[0;34m)\u001b[0m\u001b[0;34m:\u001b[0m\u001b[0;34m\u001b[0m\u001b[0;34m\u001b[0m\u001b[0m\n\u001b[0m\u001b[1;32m    573\u001b[0m     \"\"\"\n\u001b[1;32m    574\u001b[0m     \u001b[0mCheck\u001b[0m \u001b[0mwhether\u001b[0m \u001b[0man\u001b[0m \u001b[0marray\u001b[0m\u001b[0;34m-\u001b[0m\u001b[0mlike\u001b[0m \u001b[0;32mor\u001b[0m \u001b[0mdtype\u001b[0m \u001b[0;32mis\u001b[0m \u001b[0mof\u001b[0m \u001b[0mthe\u001b[0m \u001b[0mCategorical\u001b[0m \u001b[0mdtype\u001b[0m\u001b[0;34m.\u001b[0m\u001b[0;34m\u001b[0m\u001b[0;34m\u001b[0m\u001b[0m\n",
            "\u001b[0;31mKeyboardInterrupt\u001b[0m: "
          ]
        }
      ]
    },
    {
      "cell_type": "code",
      "metadata": {
        "id": "Y7-k2XHS1Sv6",
        "colab_type": "code",
        "colab": {}
      },
      "source": [
        "\n",
        "cell_lines_data['cell_line'] = cell_lines_data['cell_line'].astype('category')"
      ],
      "execution_count": 0,
      "outputs": []
    },
    {
      "cell_type": "code",
      "metadata": {
        "id": "XuRYE0Z12zD-",
        "colab_type": "code",
        "colab": {}
      },
      "source": [
        "def save_df(x, file_name, path):\n",
        "  \"\"\"\n",
        "  path: end with /\n",
        "  \"\"\"\n",
        "  x.to_pickle(path + file_name + '.pickle') # /pickel/filename.pickle\n",
        "  return\n",
        "\n",
        "def read_df(file_name, path):\n",
        "  return pd.read_pickle(path + file_name + '.pickle')  "
      ],
      "execution_count": 0,
      "outputs": []
    },
    {
      "cell_type": "code",
      "metadata": {
        "id": "cgiMiZ4G3MkP",
        "colab_type": "code",
        "colab": {}
      },
      "source": [
        "### SAVE cell_lines_data into pickle\n",
        "save_df(cell_lines_data, 'cell_lines_data', object_path)"
      ],
      "execution_count": 0,
      "outputs": []
    },
    {
      "cell_type": "code",
      "metadata": {
        "id": "wpc-rSl53QDm",
        "colab_type": "code",
        "colab": {}
      },
      "source": [
        "### READ cell_lines_data \n",
        "cell_lines_data = read_df('cell_lines_data', object_path)"
      ],
      "execution_count": 0,
      "outputs": []
    },
    {
      "cell_type": "code",
      "metadata": {
        "id": "3HjF3nef4Lba",
        "colab_type": "code",
        "outputId": "e7d515c2-f0b6-4689-f621-1001f3dcfa6d",
        "colab": {
          "base_uri": "https://localhost:8080/",
          "height": 146
        }
      },
      "source": [
        "\n",
        "cell_lines_data.columns.values"
      ],
      "execution_count": 0,
      "outputs": [
        {
          "output_type": "execute_result",
          "data": {
            "text/plain": [
              "array(['treatment', 'cell_line', 'time', 'cellID', 'fileID', 'b.CATENIN',\n",
              "       'cleavedCas', 'CyclinB', 'GAPDH', 'IdU', 'Ki.67', 'p.4EBP1',\n",
              "       'p.Akt.Ser473.', 'p.AKT.Thr308.', 'p.AMPK', 'p.BTK', 'p.CREB',\n",
              "       'p.ERK', 'p.FAK', 'p.GSK3b', 'p.H3', 'p.HER2', 'p.JNK', 'p.MAP2K3',\n",
              "       'p.MAPKAPK2', 'p.MEK', 'p.MKK3.MKK6', 'p.MKK4', 'p.NFkB', 'p.p38',\n",
              "       'p.p53', 'p.p90RSK', 'p.PDPK1', 'p.PLCg2', 'p.RB', 'p.S6', 'p.S6K',\n",
              "       'p.SMAD23', 'p.SRC', 'p.STAT1', 'p.STAT3', 'p.STAT5'], dtype=object)"
            ]
          },
          "metadata": {
            "tags": []
          },
          "execution_count": 13
        }
      ]
    },
    {
      "cell_type": "code",
      "metadata": {
        "id": "GoRDDrP74rBt",
        "colab_type": "code",
        "colab": {}
      },
      "source": [
        "cell_lines_data.drop(labels=['cell_line', 'cellID', 'fileID'], axis=1, inplace=True)"
      ],
      "execution_count": 0,
      "outputs": []
    },
    {
      "cell_type": "code",
      "metadata": {
        "id": "IOm3rfMU4310",
        "colab_type": "code",
        "outputId": "32695ad8-aed2-4d20-f5ed-40dfad7cd0a5",
        "colab": {
          "base_uri": "https://localhost:8080/",
          "height": 35
        }
      },
      "source": [
        "cell_lines_data.shape"
      ],
      "execution_count": 0,
      "outputs": [
        {
          "output_type": "execute_result",
          "data": {
            "text/plain": [
              "(17126329, 39)"
            ]
          },
          "metadata": {
            "tags": []
          },
          "execution_count": 15
        }
      ]
    },
    {
      "cell_type": "code",
      "metadata": {
        "id": "Rdvk0Gps47mQ",
        "colab_type": "code",
        "outputId": "4f6e6798-da67-4443-b570-47a934a1924d",
        "colab": {
          "base_uri": "https://localhost:8080/",
          "height": 226
        }
      },
      "source": [
        "cell_lines_data.head()"
      ],
      "execution_count": 0,
      "outputs": [
        {
          "output_type": "execute_result",
          "data": {
            "text/html": [
              "<div>\n",
              "<style scoped>\n",
              "    .dataframe tbody tr th:only-of-type {\n",
              "        vertical-align: middle;\n",
              "    }\n",
              "\n",
              "    .dataframe tbody tr th {\n",
              "        vertical-align: top;\n",
              "    }\n",
              "\n",
              "    .dataframe thead th {\n",
              "        text-align: right;\n",
              "    }\n",
              "</style>\n",
              "<table border=\"1\" class=\"dataframe\">\n",
              "  <thead>\n",
              "    <tr style=\"text-align: right;\">\n",
              "      <th></th>\n",
              "      <th>treatment</th>\n",
              "      <th>time</th>\n",
              "      <th>b.CATENIN</th>\n",
              "      <th>cleavedCas</th>\n",
              "      <th>CyclinB</th>\n",
              "      <th>GAPDH</th>\n",
              "      <th>IdU</th>\n",
              "      <th>Ki.67</th>\n",
              "      <th>p.4EBP1</th>\n",
              "      <th>p.Akt.Ser473.</th>\n",
              "      <th>p.AKT.Thr308.</th>\n",
              "      <th>p.AMPK</th>\n",
              "      <th>p.BTK</th>\n",
              "      <th>p.CREB</th>\n",
              "      <th>p.ERK</th>\n",
              "      <th>p.FAK</th>\n",
              "      <th>p.GSK3b</th>\n",
              "      <th>p.H3</th>\n",
              "      <th>p.HER2</th>\n",
              "      <th>p.JNK</th>\n",
              "      <th>p.MAP2K3</th>\n",
              "      <th>p.MAPKAPK2</th>\n",
              "      <th>p.MEK</th>\n",
              "      <th>p.MKK3.MKK6</th>\n",
              "      <th>p.MKK4</th>\n",
              "      <th>p.NFkB</th>\n",
              "      <th>p.p38</th>\n",
              "      <th>p.p53</th>\n",
              "      <th>p.p90RSK</th>\n",
              "      <th>p.PDPK1</th>\n",
              "      <th>p.PLCg2</th>\n",
              "      <th>p.RB</th>\n",
              "      <th>p.S6</th>\n",
              "      <th>p.S6K</th>\n",
              "      <th>p.SMAD23</th>\n",
              "      <th>p.SRC</th>\n",
              "      <th>p.STAT1</th>\n",
              "      <th>p.STAT3</th>\n",
              "      <th>p.STAT5</th>\n",
              "    </tr>\n",
              "  </thead>\n",
              "  <tbody>\n",
              "    <tr>\n",
              "      <th>0</th>\n",
              "      <td>iEGFR</td>\n",
              "      <td>0.0</td>\n",
              "      <td>0.224731</td>\n",
              "      <td>3.880859</td>\n",
              "      <td>3.515625</td>\n",
              "      <td>3.111328</td>\n",
              "      <td>5.035156</td>\n",
              "      <td>4.328125</td>\n",
              "      <td>5.464844</td>\n",
              "      <td>2.771484</td>\n",
              "      <td>4.179688</td>\n",
              "      <td>4.613281</td>\n",
              "      <td>3.974609</td>\n",
              "      <td>1.921875</td>\n",
              "      <td>3.853516</td>\n",
              "      <td>3.212891</td>\n",
              "      <td>3.789062</td>\n",
              "      <td>2.675781</td>\n",
              "      <td>5.250000</td>\n",
              "      <td>2.013672</td>\n",
              "      <td>2.431641</td>\n",
              "      <td>3.314453</td>\n",
              "      <td>3.285156</td>\n",
              "      <td>3.335938</td>\n",
              "      <td>4.574219</td>\n",
              "      <td>3.560547</td>\n",
              "      <td>2.750000</td>\n",
              "      <td>3.898438</td>\n",
              "      <td>4.324219</td>\n",
              "      <td>3.044922</td>\n",
              "      <td>2.609375</td>\n",
              "      <td>3.144531</td>\n",
              "      <td>6.890625</td>\n",
              "      <td>2.902344</td>\n",
              "      <td>3.041016</td>\n",
              "      <td>3.572266</td>\n",
              "      <td>3.798828</td>\n",
              "      <td>3.156250</td>\n",
              "      <td>2.398438</td>\n",
              "    </tr>\n",
              "    <tr>\n",
              "      <th>1</th>\n",
              "      <td>iEGFR</td>\n",
              "      <td>0.0</td>\n",
              "      <td>0.224731</td>\n",
              "      <td>3.085938</td>\n",
              "      <td>3.195312</td>\n",
              "      <td>2.558594</td>\n",
              "      <td>10.609375</td>\n",
              "      <td>3.619141</td>\n",
              "      <td>3.343750</td>\n",
              "      <td>1.067383</td>\n",
              "      <td>2.070312</td>\n",
              "      <td>4.367188</td>\n",
              "      <td>2.929688</td>\n",
              "      <td>0.342773</td>\n",
              "      <td>2.320312</td>\n",
              "      <td>2.113281</td>\n",
              "      <td>1.101562</td>\n",
              "      <td>2.767578</td>\n",
              "      <td>5.046875</td>\n",
              "      <td>2.738281</td>\n",
              "      <td>1.635742</td>\n",
              "      <td>1.794922</td>\n",
              "      <td>1.013672</td>\n",
              "      <td>2.130859</td>\n",
              "      <td>3.101562</td>\n",
              "      <td>2.535156</td>\n",
              "      <td>1.528320</td>\n",
              "      <td>1.057617</td>\n",
              "      <td>2.595703</td>\n",
              "      <td>2.421875</td>\n",
              "      <td>1.888672</td>\n",
              "      <td>5.363281</td>\n",
              "      <td>4.437500</td>\n",
              "      <td>2.193359</td>\n",
              "      <td>2.156250</td>\n",
              "      <td>2.388672</td>\n",
              "      <td>1.646484</td>\n",
              "      <td>1.816406</td>\n",
              "      <td>2.023438</td>\n",
              "    </tr>\n",
              "    <tr>\n",
              "      <th>2</th>\n",
              "      <td>iEGFR</td>\n",
              "      <td>0.0</td>\n",
              "      <td>1.899414</td>\n",
              "      <td>2.871094</td>\n",
              "      <td>6.238281</td>\n",
              "      <td>3.951172</td>\n",
              "      <td>10.554688</td>\n",
              "      <td>6.113281</td>\n",
              "      <td>5.304688</td>\n",
              "      <td>3.457031</td>\n",
              "      <td>3.386719</td>\n",
              "      <td>4.359375</td>\n",
              "      <td>4.750000</td>\n",
              "      <td>2.572266</td>\n",
              "      <td>4.703125</td>\n",
              "      <td>2.613281</td>\n",
              "      <td>4.226562</td>\n",
              "      <td>4.105469</td>\n",
              "      <td>5.210938</td>\n",
              "      <td>3.359375</td>\n",
              "      <td>1.619141</td>\n",
              "      <td>2.826172</td>\n",
              "      <td>3.751953</td>\n",
              "      <td>3.501953</td>\n",
              "      <td>4.695312</td>\n",
              "      <td>4.234375</td>\n",
              "      <td>3.449219</td>\n",
              "      <td>3.546875</td>\n",
              "      <td>5.609375</td>\n",
              "      <td>2.972656</td>\n",
              "      <td>3.335938</td>\n",
              "      <td>7.726562</td>\n",
              "      <td>7.800781</td>\n",
              "      <td>3.490234</td>\n",
              "      <td>3.572266</td>\n",
              "      <td>3.080078</td>\n",
              "      <td>4.011719</td>\n",
              "      <td>3.310547</td>\n",
              "      <td>2.582031</td>\n",
              "    </tr>\n",
              "    <tr>\n",
              "      <th>3</th>\n",
              "      <td>iEGFR</td>\n",
              "      <td>0.0</td>\n",
              "      <td>0.788574</td>\n",
              "      <td>3.222656</td>\n",
              "      <td>4.851562</td>\n",
              "      <td>2.923828</td>\n",
              "      <td>7.660156</td>\n",
              "      <td>4.078125</td>\n",
              "      <td>3.630859</td>\n",
              "      <td>2.345703</td>\n",
              "      <td>1.743164</td>\n",
              "      <td>3.556641</td>\n",
              "      <td>2.837891</td>\n",
              "      <td>1.732422</td>\n",
              "      <td>3.669922</td>\n",
              "      <td>1.076172</td>\n",
              "      <td>2.837891</td>\n",
              "      <td>2.386719</td>\n",
              "      <td>4.355469</td>\n",
              "      <td>1.123047</td>\n",
              "      <td>2.677734</td>\n",
              "      <td>2.876953</td>\n",
              "      <td>2.591797</td>\n",
              "      <td>1.801758</td>\n",
              "      <td>4.039062</td>\n",
              "      <td>3.484375</td>\n",
              "      <td>2.916016</td>\n",
              "      <td>2.841797</td>\n",
              "      <td>4.406250</td>\n",
              "      <td>2.085938</td>\n",
              "      <td>2.611328</td>\n",
              "      <td>6.042969</td>\n",
              "      <td>5.453125</td>\n",
              "      <td>3.289062</td>\n",
              "      <td>1.463867</td>\n",
              "      <td>2.203125</td>\n",
              "      <td>2.658203</td>\n",
              "      <td>2.253906</td>\n",
              "      <td>2.287109</td>\n",
              "    </tr>\n",
              "    <tr>\n",
              "      <th>4</th>\n",
              "      <td>iEGFR</td>\n",
              "      <td>0.0</td>\n",
              "      <td>1.597656</td>\n",
              "      <td>3.281250</td>\n",
              "      <td>2.759766</td>\n",
              "      <td>2.951172</td>\n",
              "      <td>5.820312</td>\n",
              "      <td>3.822266</td>\n",
              "      <td>4.101562</td>\n",
              "      <td>2.798828</td>\n",
              "      <td>2.896484</td>\n",
              "      <td>4.160156</td>\n",
              "      <td>3.496094</td>\n",
              "      <td>0.916504</td>\n",
              "      <td>3.957031</td>\n",
              "      <td>1.299805</td>\n",
              "      <td>3.333984</td>\n",
              "      <td>3.568359</td>\n",
              "      <td>5.699219</td>\n",
              "      <td>2.955078</td>\n",
              "      <td>1.868164</td>\n",
              "      <td>2.279297</td>\n",
              "      <td>2.439453</td>\n",
              "      <td>2.007812</td>\n",
              "      <td>4.011719</td>\n",
              "      <td>2.929688</td>\n",
              "      <td>2.890625</td>\n",
              "      <td>2.318359</td>\n",
              "      <td>3.806641</td>\n",
              "      <td>2.931641</td>\n",
              "      <td>2.583984</td>\n",
              "      <td>5.187500</td>\n",
              "      <td>5.460938</td>\n",
              "      <td>2.619141</td>\n",
              "      <td>1.687500</td>\n",
              "      <td>3.349609</td>\n",
              "      <td>2.414062</td>\n",
              "      <td>3.058594</td>\n",
              "      <td>2.208984</td>\n",
              "    </tr>\n",
              "  </tbody>\n",
              "</table>\n",
              "</div>"
            ],
            "text/plain": [
              "  treatment  time  b.CATENIN  ...   p.STAT1   p.STAT3   p.STAT5\n",
              "0     iEGFR   0.0   0.224731  ...  3.798828  3.156250  2.398438\n",
              "1     iEGFR   0.0   0.224731  ...  1.646484  1.816406  2.023438\n",
              "2     iEGFR   0.0   1.899414  ...  4.011719  3.310547  2.582031\n",
              "3     iEGFR   0.0   0.788574  ...  2.658203  2.253906  2.287109\n",
              "4     iEGFR   0.0   1.597656  ...  2.414062  3.058594  2.208984\n",
              "\n",
              "[5 rows x 39 columns]"
            ]
          },
          "metadata": {
            "tags": []
          },
          "execution_count": 16
        }
      ]
    },
    {
      "cell_type": "code",
      "metadata": {
        "id": "umqD8PKW5AMY",
        "colab_type": "code",
        "colab": {}
      },
      "source": [
        "### Convert 'treatment'\n",
        "cell_lines_data = pd.concat([cell_lines_data, pd.get_dummies(cell_lines_data[['treatment']])], axis=1)"
      ],
      "execution_count": 0,
      "outputs": []
    },
    {
      "cell_type": "code",
      "metadata": {
        "id": "5p0v6Xmo5Ymm",
        "colab_type": "code",
        "outputId": "8ecde647-7646-42a7-abd7-738f801b6970",
        "colab": {
          "base_uri": "https://localhost:8080/",
          "height": 35
        }
      },
      "source": [
        "cell_lines_data.shape"
      ],
      "execution_count": 0,
      "outputs": [
        {
          "output_type": "execute_result",
          "data": {
            "text/plain": [
              "(17126329, 45)"
            ]
          },
          "metadata": {
            "tags": []
          },
          "execution_count": 18
        }
      ]
    },
    {
      "cell_type": "code",
      "metadata": {
        "id": "eZclazf75bB8",
        "colab_type": "code",
        "colab": {}
      },
      "source": [
        "cell_lines_data.drop(labels=['treatment'], axis=1, inplace=True)"
      ],
      "execution_count": 0,
      "outputs": []
    },
    {
      "cell_type": "code",
      "metadata": {
        "id": "Awa23Ewl5dYW",
        "colab_type": "code",
        "outputId": "ef4fd194-2399-4390-92d4-4833009424c6",
        "colab": {
          "base_uri": "https://localhost:8080/",
          "height": 226
        }
      },
      "source": [
        "cell_lines_data.head()"
      ],
      "execution_count": 0,
      "outputs": [
        {
          "output_type": "execute_result",
          "data": {
            "text/html": [
              "<div>\n",
              "<style scoped>\n",
              "    .dataframe tbody tr th:only-of-type {\n",
              "        vertical-align: middle;\n",
              "    }\n",
              "\n",
              "    .dataframe tbody tr th {\n",
              "        vertical-align: top;\n",
              "    }\n",
              "\n",
              "    .dataframe thead th {\n",
              "        text-align: right;\n",
              "    }\n",
              "</style>\n",
              "<table border=\"1\" class=\"dataframe\">\n",
              "  <thead>\n",
              "    <tr style=\"text-align: right;\">\n",
              "      <th></th>\n",
              "      <th>time</th>\n",
              "      <th>b.CATENIN</th>\n",
              "      <th>cleavedCas</th>\n",
              "      <th>CyclinB</th>\n",
              "      <th>GAPDH</th>\n",
              "      <th>IdU</th>\n",
              "      <th>Ki.67</th>\n",
              "      <th>p.4EBP1</th>\n",
              "      <th>p.Akt.Ser473.</th>\n",
              "      <th>p.AKT.Thr308.</th>\n",
              "      <th>p.AMPK</th>\n",
              "      <th>p.BTK</th>\n",
              "      <th>p.CREB</th>\n",
              "      <th>p.ERK</th>\n",
              "      <th>p.FAK</th>\n",
              "      <th>p.GSK3b</th>\n",
              "      <th>p.H3</th>\n",
              "      <th>p.HER2</th>\n",
              "      <th>p.JNK</th>\n",
              "      <th>p.MAP2K3</th>\n",
              "      <th>p.MAPKAPK2</th>\n",
              "      <th>p.MEK</th>\n",
              "      <th>p.MKK3.MKK6</th>\n",
              "      <th>p.MKK4</th>\n",
              "      <th>p.NFkB</th>\n",
              "      <th>p.p38</th>\n",
              "      <th>p.p53</th>\n",
              "      <th>p.p90RSK</th>\n",
              "      <th>p.PDPK1</th>\n",
              "      <th>p.PLCg2</th>\n",
              "      <th>p.RB</th>\n",
              "      <th>p.S6</th>\n",
              "      <th>p.S6K</th>\n",
              "      <th>p.SMAD23</th>\n",
              "      <th>p.SRC</th>\n",
              "      <th>p.STAT1</th>\n",
              "      <th>p.STAT3</th>\n",
              "      <th>p.STAT5</th>\n",
              "      <th>treatment_iEGFR</th>\n",
              "      <th>treatment_iMEK</th>\n",
              "      <th>treatment_iPI3K</th>\n",
              "      <th>treatment_iPKC</th>\n",
              "      <th>treatment_EGF</th>\n",
              "      <th>treatment_full</th>\n",
              "    </tr>\n",
              "  </thead>\n",
              "  <tbody>\n",
              "    <tr>\n",
              "      <th>0</th>\n",
              "      <td>0.0</td>\n",
              "      <td>0.224731</td>\n",
              "      <td>3.880859</td>\n",
              "      <td>3.515625</td>\n",
              "      <td>3.111328</td>\n",
              "      <td>5.035156</td>\n",
              "      <td>4.328125</td>\n",
              "      <td>5.464844</td>\n",
              "      <td>2.771484</td>\n",
              "      <td>4.179688</td>\n",
              "      <td>4.613281</td>\n",
              "      <td>3.974609</td>\n",
              "      <td>1.921875</td>\n",
              "      <td>3.853516</td>\n",
              "      <td>3.212891</td>\n",
              "      <td>3.789062</td>\n",
              "      <td>2.675781</td>\n",
              "      <td>5.250000</td>\n",
              "      <td>2.013672</td>\n",
              "      <td>2.431641</td>\n",
              "      <td>3.314453</td>\n",
              "      <td>3.285156</td>\n",
              "      <td>3.335938</td>\n",
              "      <td>4.574219</td>\n",
              "      <td>3.560547</td>\n",
              "      <td>2.750000</td>\n",
              "      <td>3.898438</td>\n",
              "      <td>4.324219</td>\n",
              "      <td>3.044922</td>\n",
              "      <td>2.609375</td>\n",
              "      <td>3.144531</td>\n",
              "      <td>6.890625</td>\n",
              "      <td>2.902344</td>\n",
              "      <td>3.041016</td>\n",
              "      <td>3.572266</td>\n",
              "      <td>3.798828</td>\n",
              "      <td>3.156250</td>\n",
              "      <td>2.398438</td>\n",
              "      <td>1</td>\n",
              "      <td>0</td>\n",
              "      <td>0</td>\n",
              "      <td>0</td>\n",
              "      <td>0</td>\n",
              "      <td>0</td>\n",
              "    </tr>\n",
              "    <tr>\n",
              "      <th>1</th>\n",
              "      <td>0.0</td>\n",
              "      <td>0.224731</td>\n",
              "      <td>3.085938</td>\n",
              "      <td>3.195312</td>\n",
              "      <td>2.558594</td>\n",
              "      <td>10.609375</td>\n",
              "      <td>3.619141</td>\n",
              "      <td>3.343750</td>\n",
              "      <td>1.067383</td>\n",
              "      <td>2.070312</td>\n",
              "      <td>4.367188</td>\n",
              "      <td>2.929688</td>\n",
              "      <td>0.342773</td>\n",
              "      <td>2.320312</td>\n",
              "      <td>2.113281</td>\n",
              "      <td>1.101562</td>\n",
              "      <td>2.767578</td>\n",
              "      <td>5.046875</td>\n",
              "      <td>2.738281</td>\n",
              "      <td>1.635742</td>\n",
              "      <td>1.794922</td>\n",
              "      <td>1.013672</td>\n",
              "      <td>2.130859</td>\n",
              "      <td>3.101562</td>\n",
              "      <td>2.535156</td>\n",
              "      <td>1.528320</td>\n",
              "      <td>1.057617</td>\n",
              "      <td>2.595703</td>\n",
              "      <td>2.421875</td>\n",
              "      <td>1.888672</td>\n",
              "      <td>5.363281</td>\n",
              "      <td>4.437500</td>\n",
              "      <td>2.193359</td>\n",
              "      <td>2.156250</td>\n",
              "      <td>2.388672</td>\n",
              "      <td>1.646484</td>\n",
              "      <td>1.816406</td>\n",
              "      <td>2.023438</td>\n",
              "      <td>1</td>\n",
              "      <td>0</td>\n",
              "      <td>0</td>\n",
              "      <td>0</td>\n",
              "      <td>0</td>\n",
              "      <td>0</td>\n",
              "    </tr>\n",
              "    <tr>\n",
              "      <th>2</th>\n",
              "      <td>0.0</td>\n",
              "      <td>1.899414</td>\n",
              "      <td>2.871094</td>\n",
              "      <td>6.238281</td>\n",
              "      <td>3.951172</td>\n",
              "      <td>10.554688</td>\n",
              "      <td>6.113281</td>\n",
              "      <td>5.304688</td>\n",
              "      <td>3.457031</td>\n",
              "      <td>3.386719</td>\n",
              "      <td>4.359375</td>\n",
              "      <td>4.750000</td>\n",
              "      <td>2.572266</td>\n",
              "      <td>4.703125</td>\n",
              "      <td>2.613281</td>\n",
              "      <td>4.226562</td>\n",
              "      <td>4.105469</td>\n",
              "      <td>5.210938</td>\n",
              "      <td>3.359375</td>\n",
              "      <td>1.619141</td>\n",
              "      <td>2.826172</td>\n",
              "      <td>3.751953</td>\n",
              "      <td>3.501953</td>\n",
              "      <td>4.695312</td>\n",
              "      <td>4.234375</td>\n",
              "      <td>3.449219</td>\n",
              "      <td>3.546875</td>\n",
              "      <td>5.609375</td>\n",
              "      <td>2.972656</td>\n",
              "      <td>3.335938</td>\n",
              "      <td>7.726562</td>\n",
              "      <td>7.800781</td>\n",
              "      <td>3.490234</td>\n",
              "      <td>3.572266</td>\n",
              "      <td>3.080078</td>\n",
              "      <td>4.011719</td>\n",
              "      <td>3.310547</td>\n",
              "      <td>2.582031</td>\n",
              "      <td>1</td>\n",
              "      <td>0</td>\n",
              "      <td>0</td>\n",
              "      <td>0</td>\n",
              "      <td>0</td>\n",
              "      <td>0</td>\n",
              "    </tr>\n",
              "    <tr>\n",
              "      <th>3</th>\n",
              "      <td>0.0</td>\n",
              "      <td>0.788574</td>\n",
              "      <td>3.222656</td>\n",
              "      <td>4.851562</td>\n",
              "      <td>2.923828</td>\n",
              "      <td>7.660156</td>\n",
              "      <td>4.078125</td>\n",
              "      <td>3.630859</td>\n",
              "      <td>2.345703</td>\n",
              "      <td>1.743164</td>\n",
              "      <td>3.556641</td>\n",
              "      <td>2.837891</td>\n",
              "      <td>1.732422</td>\n",
              "      <td>3.669922</td>\n",
              "      <td>1.076172</td>\n",
              "      <td>2.837891</td>\n",
              "      <td>2.386719</td>\n",
              "      <td>4.355469</td>\n",
              "      <td>1.123047</td>\n",
              "      <td>2.677734</td>\n",
              "      <td>2.876953</td>\n",
              "      <td>2.591797</td>\n",
              "      <td>1.801758</td>\n",
              "      <td>4.039062</td>\n",
              "      <td>3.484375</td>\n",
              "      <td>2.916016</td>\n",
              "      <td>2.841797</td>\n",
              "      <td>4.406250</td>\n",
              "      <td>2.085938</td>\n",
              "      <td>2.611328</td>\n",
              "      <td>6.042969</td>\n",
              "      <td>5.453125</td>\n",
              "      <td>3.289062</td>\n",
              "      <td>1.463867</td>\n",
              "      <td>2.203125</td>\n",
              "      <td>2.658203</td>\n",
              "      <td>2.253906</td>\n",
              "      <td>2.287109</td>\n",
              "      <td>1</td>\n",
              "      <td>0</td>\n",
              "      <td>0</td>\n",
              "      <td>0</td>\n",
              "      <td>0</td>\n",
              "      <td>0</td>\n",
              "    </tr>\n",
              "    <tr>\n",
              "      <th>4</th>\n",
              "      <td>0.0</td>\n",
              "      <td>1.597656</td>\n",
              "      <td>3.281250</td>\n",
              "      <td>2.759766</td>\n",
              "      <td>2.951172</td>\n",
              "      <td>5.820312</td>\n",
              "      <td>3.822266</td>\n",
              "      <td>4.101562</td>\n",
              "      <td>2.798828</td>\n",
              "      <td>2.896484</td>\n",
              "      <td>4.160156</td>\n",
              "      <td>3.496094</td>\n",
              "      <td>0.916504</td>\n",
              "      <td>3.957031</td>\n",
              "      <td>1.299805</td>\n",
              "      <td>3.333984</td>\n",
              "      <td>3.568359</td>\n",
              "      <td>5.699219</td>\n",
              "      <td>2.955078</td>\n",
              "      <td>1.868164</td>\n",
              "      <td>2.279297</td>\n",
              "      <td>2.439453</td>\n",
              "      <td>2.007812</td>\n",
              "      <td>4.011719</td>\n",
              "      <td>2.929688</td>\n",
              "      <td>2.890625</td>\n",
              "      <td>2.318359</td>\n",
              "      <td>3.806641</td>\n",
              "      <td>2.931641</td>\n",
              "      <td>2.583984</td>\n",
              "      <td>5.187500</td>\n",
              "      <td>5.460938</td>\n",
              "      <td>2.619141</td>\n",
              "      <td>1.687500</td>\n",
              "      <td>3.349609</td>\n",
              "      <td>2.414062</td>\n",
              "      <td>3.058594</td>\n",
              "      <td>2.208984</td>\n",
              "      <td>1</td>\n",
              "      <td>0</td>\n",
              "      <td>0</td>\n",
              "      <td>0</td>\n",
              "      <td>0</td>\n",
              "      <td>0</td>\n",
              "    </tr>\n",
              "  </tbody>\n",
              "</table>\n",
              "</div>"
            ],
            "text/plain": [
              "   time  b.CATENIN  cleavedCas  ...  treatment_iPKC  treatment_EGF  treatment_full\n",
              "0   0.0   0.224731    3.880859  ...               0              0               0\n",
              "1   0.0   0.224731    3.085938  ...               0              0               0\n",
              "2   0.0   1.899414    2.871094  ...               0              0               0\n",
              "3   0.0   0.788574    3.222656  ...               0              0               0\n",
              "4   0.0   1.597656    3.281250  ...               0              0               0\n",
              "\n",
              "[5 rows x 44 columns]"
            ]
          },
          "metadata": {
            "tags": []
          },
          "execution_count": 20
        }
      ]
    },
    {
      "cell_type": "code",
      "metadata": {
        "id": "P74DVk7i5g5U",
        "colab_type": "code",
        "outputId": "c6add956-5827-4483-8981-0cb4a3bfc5f7",
        "colab": {
          "base_uri": "https://localhost:8080/",
          "height": 35
        }
      },
      "source": [
        "cell_lines_data.shape"
      ],
      "execution_count": 0,
      "outputs": [
        {
          "output_type": "execute_result",
          "data": {
            "text/plain": [
              "(17126329, 44)"
            ]
          },
          "metadata": {
            "tags": []
          },
          "execution_count": 21
        }
      ]
    },
    {
      "cell_type": "code",
      "metadata": {
        "id": "udqT25d352jC",
        "colab_type": "code",
        "outputId": "e68f30be-7bcc-40dd-cd52-acfbfef80740",
        "colab": {
          "base_uri": "https://localhost:8080/",
          "height": 283
        }
      },
      "source": [
        "import seaborn as sns\n",
        "import matplotlib.pyplot as plt\n",
        "%matplotlib inline\n",
        "sns.boxplot(x=cell_lines_data['Ki.67'])\n",
        "plt.show()"
      ],
      "execution_count": 0,
      "outputs": [
        {
          "output_type": "display_data",
          "data": {
            "image/png": "[encoded data removed]",
            "text/plain": [
              "<Figure size 432x288 with 1 Axes>"
            ]
          },
          "metadata": {
            "tags": []
          }
        }
      ]
    },
    {
      "cell_type": "code",
      "metadata": {
        "id": "zhebADTcbXhg",
        "colab_type": "code",
        "outputId": "3b0e341e-cd1c-4e0f-adf9-c2dd0931598f",
        "colab": {
          "base_uri": "https://localhost:8080/",
          "height": 844
        }
      },
      "source": [
        "Q1 = cell_lines_data.quantile(0.25)\n",
        "Q3 = cell_lines_data.quantile(0.75)\n",
        "IQR = Q3 - Q1\n",
        "print(IQR)"
      ],
      "execution_count": 0,
      "outputs": [
        {
          "output_type": "stream",
          "text": [
            "time               17.000000\n",
            "b.CATENIN           0.884277\n",
            "cleavedCas          1.523438\n",
            "CyclinB             1.564453\n",
            "GAPDH               1.442383\n",
            "IdU                 1.750000\n",
            "Ki.67               2.362305\n",
            "p.4EBP1             1.722656\n",
            "p.Akt.Ser473.       1.896484\n",
            "p.AKT.Thr308.       1.380859\n",
            "p.AMPK              1.027344\n",
            "p.BTK               1.277344\n",
            "p.CREB              1.191406\n",
            "p.ERK               1.617188\n",
            "p.FAK               1.276367\n",
            "p.GSK3b             1.742188\n",
            "p.H3                1.534180\n",
            "p.HER2              1.292969\n",
            "p.JNK               1.288086\n",
            "p.MAP2K3            1.154785\n",
            "p.MAPKAPK2          1.199219\n",
            "p.MEK               0.988281\n",
            "p.MKK3.MKK6         1.457031\n",
            "p.MKK4              1.619141\n",
            "p.NFkB              0.921875\n",
            "p.p38               1.560547\n",
            "p.p53               1.416016\n",
            "p.p90RSK            1.992188\n",
            "p.PDPK1             1.433594\n",
            "p.PLCg2             2.011719\n",
            "p.RB                2.628906\n",
            "p.S6                2.644531\n",
            "p.S6K               1.174805\n",
            "p.SMAD23            1.307617\n",
            "p.SRC               1.393555\n",
            "p.STAT1             1.074219\n",
            "p.STAT3             1.621582\n",
            "p.STAT5             0.954102\n",
            "treatment_iEGFR     0.000000\n",
            "treatment_iMEK      0.000000\n",
            "treatment_iPI3K     0.000000\n",
            "treatment_iPKC      0.000000\n",
            "treatment_EGF       1.000000\n",
            "treatment_full      0.000000\n",
            "dtype: float64\n"
          ],
          "name": "stdout"
        }
      ]
    },
    {
      "cell_type": "code",
      "metadata": {
        "id": "k_iisZhhcEVk",
        "colab_type": "code",
        "outputId": "369ba35a-f79b-43b6-d546-269fc68caa83",
        "colab": {
          "base_uri": "https://localhost:8080/",
          "height": 1000
        }
      },
      "source": [
        "print(cell_lines_data < (Q1 - 1.5 * IQR)) |(cell_lines_data > (Q3 + 1.5 * IQR))"
      ],
      "execution_count": 0,
      "outputs": [
        {
          "output_type": "stream",
          "text": [
            "         time  b.CATENIN  ...  treatment_EGF  treatment_full\n",
            "0       False      False  ...          False           False\n",
            "1       False      False  ...          False           False\n",
            "2       False      False  ...          False           False\n",
            "3       False      False  ...          False           False\n",
            "4       False      False  ...          False           False\n",
            "5       False      False  ...          False           False\n",
            "6       False      False  ...          False           False\n",
            "7       False      False  ...          False           False\n",
            "8       False      False  ...          False           False\n",
            "9       False      False  ...          False           False\n",
            "10      False      False  ...          False           False\n",
            "11      False      False  ...          False           False\n",
            "12      False      False  ...          False           False\n",
            "13      False      False  ...          False           False\n",
            "14      False      False  ...          False           False\n",
            "15      False      False  ...          False           False\n",
            "16      False      False  ...          False           False\n",
            "17      False      False  ...          False           False\n",
            "18      False      False  ...          False           False\n",
            "19      False      False  ...          False           False\n",
            "20      False      False  ...          False           False\n",
            "21      False      False  ...          False           False\n",
            "22      False      False  ...          False           False\n",
            "23      False      False  ...          False           False\n",
            "24      False      False  ...          False           False\n",
            "25      False      False  ...          False           False\n",
            "26      False      False  ...          False           False\n",
            "27      False      False  ...          False           False\n",
            "28      False      False  ...          False           False\n",
            "29      False      False  ...          False           False\n",
            "...       ...        ...  ...            ...             ...\n",
            "303629  False      False  ...          False           False\n",
            "303630  False      False  ...          False           False\n",
            "303631  False      False  ...          False           False\n",
            "303632  False      False  ...          False           False\n",
            "303633  False      False  ...          False           False\n",
            "303634  False      False  ...          False           False\n",
            "303635  False      False  ...          False           False\n",
            "303636  False      False  ...          False           False\n",
            "303637  False      False  ...          False           False\n",
            "303638  False      False  ...          False           False\n",
            "303639  False      False  ...          False           False\n",
            "303640  False      False  ...          False           False\n",
            "303641  False      False  ...          False           False\n",
            "303642  False      False  ...          False           False\n",
            "303643  False      False  ...          False           False\n",
            "303644  False      False  ...          False           False\n",
            "303645  False      False  ...          False           False\n",
            "303646  False      False  ...          False           False\n",
            "303647  False      False  ...          False           False\n",
            "303648  False      False  ...          False           False\n",
            "303649  False      False  ...          False           False\n",
            "303650  False      False  ...          False           False\n",
            "303651  False      False  ...          False           False\n",
            "303652  False      False  ...          False           False\n",
            "303653  False      False  ...          False           False\n",
            "303654  False      False  ...          False           False\n",
            "303655  False      False  ...          False           False\n",
            "303656  False      False  ...          False           False\n",
            "303657  False      False  ...          False           False\n",
            "303658  False      False  ...          False           False\n",
            "\n",
            "[17126329 rows x 44 columns]\n"
          ],
          "name": "stdout"
        },
        {
          "output_type": "error",
          "ename": "TypeError",
          "evalue": "ignored",
          "traceback": [
            "\u001b[0;31m---------------------------------------------------------------------------\u001b[0m",
            "\u001b[0;31mTypeError\u001b[0m                                 Traceback (most recent call last)",
            "\u001b[0;32m/usr/local/lib/python3.6/dist-packages/pandas/core/ops.py\u001b[0m in \u001b[0;36mna_op\u001b[0;34m(x, y)\u001b[0m\n\u001b[1;32m   1788\u001b[0m         \u001b[0;32mtry\u001b[0m\u001b[0;34m:\u001b[0m\u001b[0;34m\u001b[0m\u001b[0;34m\u001b[0m\u001b[0m\n\u001b[0;32m-> 1789\u001b[0;31m             \u001b[0mresult\u001b[0m \u001b[0;34m=\u001b[0m \u001b[0mop\u001b[0m\u001b[0;34m(\u001b[0m\u001b[0mx\u001b[0m\u001b[0;34m,\u001b[0m \u001b[0my\u001b[0m\u001b[0;34m)\u001b[0m\u001b[0;34m\u001b[0m\u001b[0;34m\u001b[0m\u001b[0m\n\u001b[0m\u001b[1;32m   1790\u001b[0m         \u001b[0;32mexcept\u001b[0m \u001b[0mTypeError\u001b[0m\u001b[0;34m:\u001b[0m\u001b[0;34m\u001b[0m\u001b[0;34m\u001b[0m\u001b[0m\n",
            "\u001b[0;32m/usr/local/lib/python3.6/dist-packages/pandas/core/ops.py\u001b[0m in \u001b[0;36mror_\u001b[0;34m(left, right)\u001b[0m\n\u001b[1;32m    190\u001b[0m \u001b[0;32mdef\u001b[0m \u001b[0mror_\u001b[0m\u001b[0;34m(\u001b[0m\u001b[0mleft\u001b[0m\u001b[0;34m,\u001b[0m \u001b[0mright\u001b[0m\u001b[0;34m)\u001b[0m\u001b[0;34m:\u001b[0m\u001b[0;34m\u001b[0m\u001b[0;34m\u001b[0m\u001b[0m\n\u001b[0;32m--> 191\u001b[0;31m     \u001b[0;32mreturn\u001b[0m \u001b[0moperator\u001b[0m\u001b[0;34m.\u001b[0m\u001b[0mor_\u001b[0m\u001b[0;34m(\u001b[0m\u001b[0mright\u001b[0m\u001b[0;34m,\u001b[0m \u001b[0mleft\u001b[0m\u001b[0;34m)\u001b[0m\u001b[0;34m\u001b[0m\u001b[0;34m\u001b[0m\u001b[0m\n\u001b[0m\u001b[1;32m    192\u001b[0m \u001b[0;34m\u001b[0m\u001b[0m\n",
            "\u001b[0;31mTypeError\u001b[0m: unsupported operand type(s) for |: 'NoneType' and 'bool'",
            "\nDuring handling of the above exception, another exception occurred:\n",
            "\u001b[0;31mValueError\u001b[0m                                Traceback (most recent call last)",
            "\u001b[0;32m/usr/local/lib/python3.6/dist-packages/pandas/core/ops.py\u001b[0m in \u001b[0;36mna_op\u001b[0;34m(x, y)\u001b[0m\n\u001b[1;32m   1803\u001b[0m                 \u001b[0;32mtry\u001b[0m\u001b[0;34m:\u001b[0m\u001b[0;34m\u001b[0m\u001b[0;34m\u001b[0m\u001b[0m\n\u001b[0;32m-> 1804\u001b[0;31m                     \u001b[0mresult\u001b[0m \u001b[0;34m=\u001b[0m \u001b[0mlibops\u001b[0m\u001b[0;34m.\u001b[0m\u001b[0mscalar_binop\u001b[0m\u001b[0;34m(\u001b[0m\u001b[0mx\u001b[0m\u001b[0;34m,\u001b[0m \u001b[0my\u001b[0m\u001b[0;34m,\u001b[0m \u001b[0mop\u001b[0m\u001b[0;34m)\u001b[0m\u001b[0;34m\u001b[0m\u001b[0;34m\u001b[0m\u001b[0m\n\u001b[0m\u001b[1;32m   1805\u001b[0m                 except (TypeError, ValueError, AttributeError,\n",
            "\u001b[0;32mpandas/_libs/ops.pyx\u001b[0m in \u001b[0;36mpandas._libs.ops.scalar_binop\u001b[0;34m()\u001b[0m\n",
            "\u001b[0;31mValueError\u001b[0m: Does not understand character buffer dtype format string ('?')",
            "\nDuring handling of the above exception, another exception occurred:\n",
            "\u001b[0;31mTypeError\u001b[0m                                 Traceback (most recent call last)",
            "\u001b[0;32m<ipython-input-24-67b2321a968e>\u001b[0m in \u001b[0;36m<module>\u001b[0;34m()\u001b[0m\n\u001b[0;32m----> 1\u001b[0;31m \u001b[0mprint\u001b[0m\u001b[0;34m(\u001b[0m\u001b[0mcell_lines_data\u001b[0m \u001b[0;34m<\u001b[0m \u001b[0;34m(\u001b[0m\u001b[0mQ1\u001b[0m \u001b[0;34m-\u001b[0m \u001b[0;36m1.5\u001b[0m \u001b[0;34m*\u001b[0m \u001b[0mIQR\u001b[0m\u001b[0;34m)\u001b[0m\u001b[0;34m)\u001b[0m \u001b[0;34m|\u001b[0m\u001b[0;34m(\u001b[0m\u001b[0mcell_lines_data\u001b[0m \u001b[0;34m>\u001b[0m \u001b[0;34m(\u001b[0m\u001b[0mQ3\u001b[0m \u001b[0;34m+\u001b[0m \u001b[0;36m1.5\u001b[0m \u001b[0;34m*\u001b[0m \u001b[0mIQR\u001b[0m\u001b[0;34m)\u001b[0m\u001b[0;34m)\u001b[0m\u001b[0;34m\u001b[0m\u001b[0;34m\u001b[0m\u001b[0m\n\u001b[0m",
            "\u001b[0;32m/usr/local/lib/python3.6/dist-packages/pandas/core/ops.py\u001b[0m in \u001b[0;36mf\u001b[0;34m(self, other, axis, level, fill_value)\u001b[0m\n\u001b[1;32m   2034\u001b[0m \u001b[0;34m\u001b[0m\u001b[0m\n\u001b[1;32m   2035\u001b[0m             \u001b[0;32massert\u001b[0m \u001b[0mnp\u001b[0m\u001b[0;34m.\u001b[0m\u001b[0mndim\u001b[0m\u001b[0;34m(\u001b[0m\u001b[0mother\u001b[0m\u001b[0;34m)\u001b[0m \u001b[0;34m==\u001b[0m \u001b[0;36m0\u001b[0m\u001b[0;34m\u001b[0m\u001b[0;34m\u001b[0m\u001b[0m\n\u001b[0;32m-> 2036\u001b[0;31m             \u001b[0;32mreturn\u001b[0m \u001b[0mself\u001b[0m\u001b[0;34m.\u001b[0m\u001b[0m_combine_const\u001b[0m\u001b[0;34m(\u001b[0m\u001b[0mother\u001b[0m\u001b[0;34m,\u001b[0m \u001b[0mop\u001b[0m\u001b[0;34m)\u001b[0m\u001b[0;34m\u001b[0m\u001b[0;34m\u001b[0m\u001b[0m\n\u001b[0m\u001b[1;32m   2037\u001b[0m \u001b[0;34m\u001b[0m\u001b[0m\n\u001b[1;32m   2038\u001b[0m     \u001b[0mf\u001b[0m\u001b[0;34m.\u001b[0m\u001b[0m__name__\u001b[0m \u001b[0;34m=\u001b[0m \u001b[0mop_name\u001b[0m\u001b[0;34m\u001b[0m\u001b[0;34m\u001b[0m\u001b[0m\n",
            "\u001b[0;32m/usr/local/lib/python3.6/dist-packages/pandas/core/frame.py\u001b[0m in \u001b[0;36m_combine_const\u001b[0;34m(self, other, func)\u001b[0m\n\u001b[1;32m   5118\u001b[0m     \u001b[0;32mdef\u001b[0m \u001b[0m_combine_const\u001b[0m\u001b[0;34m(\u001b[0m\u001b[0mself\u001b[0m\u001b[0;34m,\u001b[0m \u001b[0mother\u001b[0m\u001b[0;34m,\u001b[0m \u001b[0mfunc\u001b[0m\u001b[0;34m)\u001b[0m\u001b[0;34m:\u001b[0m\u001b[0;34m\u001b[0m\u001b[0;34m\u001b[0m\u001b[0m\n\u001b[1;32m   5119\u001b[0m         \u001b[0;32massert\u001b[0m \u001b[0mlib\u001b[0m\u001b[0;34m.\u001b[0m\u001b[0mis_scalar\u001b[0m\u001b[0;34m(\u001b[0m\u001b[0mother\u001b[0m\u001b[0;34m)\u001b[0m \u001b[0;32mor\u001b[0m \u001b[0mnp\u001b[0m\u001b[0;34m.\u001b[0m\u001b[0mndim\u001b[0m\u001b[0;34m(\u001b[0m\u001b[0mother\u001b[0m\u001b[0;34m)\u001b[0m \u001b[0;34m==\u001b[0m \u001b[0;36m0\u001b[0m\u001b[0;34m\u001b[0m\u001b[0;34m\u001b[0m\u001b[0m\n\u001b[0;32m-> 5120\u001b[0;31m         \u001b[0;32mreturn\u001b[0m \u001b[0mops\u001b[0m\u001b[0;34m.\u001b[0m\u001b[0mdispatch_to_series\u001b[0m\u001b[0;34m(\u001b[0m\u001b[0mself\u001b[0m\u001b[0;34m,\u001b[0m \u001b[0mother\u001b[0m\u001b[0;34m,\u001b[0m \u001b[0mfunc\u001b[0m\u001b[0;34m)\u001b[0m\u001b[0;34m\u001b[0m\u001b[0;34m\u001b[0m\u001b[0m\n\u001b[0m\u001b[1;32m   5121\u001b[0m \u001b[0;34m\u001b[0m\u001b[0m\n\u001b[1;32m   5122\u001b[0m     \u001b[0;32mdef\u001b[0m \u001b[0mcombine\u001b[0m\u001b[0;34m(\u001b[0m\u001b[0mself\u001b[0m\u001b[0;34m,\u001b[0m \u001b[0mother\u001b[0m\u001b[0;34m,\u001b[0m \u001b[0mfunc\u001b[0m\u001b[0;34m,\u001b[0m \u001b[0mfill_value\u001b[0m\u001b[0;34m=\u001b[0m\u001b[0;32mNone\u001b[0m\u001b[0;34m,\u001b[0m \u001b[0moverwrite\u001b[0m\u001b[0;34m=\u001b[0m\u001b[0;32mTrue\u001b[0m\u001b[0;34m)\u001b[0m\u001b[0;34m:\u001b[0m\u001b[0;34m\u001b[0m\u001b[0;34m\u001b[0m\u001b[0m\n",
            "\u001b[0;32m/usr/local/lib/python3.6/dist-packages/pandas/core/ops.py\u001b[0m in \u001b[0;36mdispatch_to_series\u001b[0;34m(left, right, func, str_rep, axis)\u001b[0m\n\u001b[1;32m   1155\u001b[0m         \u001b[0;32mraise\u001b[0m \u001b[0mNotImplementedError\u001b[0m\u001b[0;34m(\u001b[0m\u001b[0mright\u001b[0m\u001b[0;34m)\u001b[0m\u001b[0;34m\u001b[0m\u001b[0;34m\u001b[0m\u001b[0m\n\u001b[1;32m   1156\u001b[0m \u001b[0;34m\u001b[0m\u001b[0m\n\u001b[0;32m-> 1157\u001b[0;31m     \u001b[0mnew_data\u001b[0m \u001b[0;34m=\u001b[0m \u001b[0mexpressions\u001b[0m\u001b[0;34m.\u001b[0m\u001b[0mevaluate\u001b[0m\u001b[0;34m(\u001b[0m\u001b[0mcolumn_op\u001b[0m\u001b[0;34m,\u001b[0m \u001b[0mstr_rep\u001b[0m\u001b[0;34m,\u001b[0m \u001b[0mleft\u001b[0m\u001b[0;34m,\u001b[0m \u001b[0mright\u001b[0m\u001b[0;34m)\u001b[0m\u001b[0;34m\u001b[0m\u001b[0;34m\u001b[0m\u001b[0m\n\u001b[0m\u001b[1;32m   1158\u001b[0m \u001b[0;34m\u001b[0m\u001b[0m\n\u001b[1;32m   1159\u001b[0m     \u001b[0mresult\u001b[0m \u001b[0;34m=\u001b[0m \u001b[0mleft\u001b[0m\u001b[0;34m.\u001b[0m\u001b[0m_constructor\u001b[0m\u001b[0;34m(\u001b[0m\u001b[0mnew_data\u001b[0m\u001b[0;34m,\u001b[0m \u001b[0mindex\u001b[0m\u001b[0;34m=\u001b[0m\u001b[0mleft\u001b[0m\u001b[0;34m.\u001b[0m\u001b[0mindex\u001b[0m\u001b[0;34m,\u001b[0m \u001b[0mcopy\u001b[0m\u001b[0;34m=\u001b[0m\u001b[0;32mFalse\u001b[0m\u001b[0;34m)\u001b[0m\u001b[0;34m\u001b[0m\u001b[0;34m\u001b[0m\u001b[0m\n",
            "\u001b[0;32m/usr/local/lib/python3.6/dist-packages/pandas/core/computation/expressions.py\u001b[0m in \u001b[0;36mevaluate\u001b[0;34m(op, op_str, a, b, use_numexpr, **eval_kwargs)\u001b[0m\n\u001b[1;32m    206\u001b[0m     \u001b[0muse_numexpr\u001b[0m \u001b[0;34m=\u001b[0m \u001b[0muse_numexpr\u001b[0m \u001b[0;32mand\u001b[0m \u001b[0m_bool_arith_check\u001b[0m\u001b[0;34m(\u001b[0m\u001b[0mop_str\u001b[0m\u001b[0;34m,\u001b[0m \u001b[0ma\u001b[0m\u001b[0;34m,\u001b[0m \u001b[0mb\u001b[0m\u001b[0;34m)\u001b[0m\u001b[0;34m\u001b[0m\u001b[0;34m\u001b[0m\u001b[0m\n\u001b[1;32m    207\u001b[0m     \u001b[0;32mif\u001b[0m \u001b[0muse_numexpr\u001b[0m\u001b[0;34m:\u001b[0m\u001b[0;34m\u001b[0m\u001b[0;34m\u001b[0m\u001b[0m\n\u001b[0;32m--> 208\u001b[0;31m         \u001b[0;32mreturn\u001b[0m \u001b[0m_evaluate\u001b[0m\u001b[0;34m(\u001b[0m\u001b[0mop\u001b[0m\u001b[0;34m,\u001b[0m \u001b[0mop_str\u001b[0m\u001b[0;34m,\u001b[0m \u001b[0ma\u001b[0m\u001b[0;34m,\u001b[0m \u001b[0mb\u001b[0m\u001b[0;34m,\u001b[0m \u001b[0;34m**\u001b[0m\u001b[0meval_kwargs\u001b[0m\u001b[0;34m)\u001b[0m\u001b[0;34m\u001b[0m\u001b[0;34m\u001b[0m\u001b[0m\n\u001b[0m\u001b[1;32m    209\u001b[0m     \u001b[0;32mreturn\u001b[0m \u001b[0m_evaluate_standard\u001b[0m\u001b[0;34m(\u001b[0m\u001b[0mop\u001b[0m\u001b[0;34m,\u001b[0m \u001b[0mop_str\u001b[0m\u001b[0;34m,\u001b[0m \u001b[0ma\u001b[0m\u001b[0;34m,\u001b[0m \u001b[0mb\u001b[0m\u001b[0;34m)\u001b[0m\u001b[0;34m\u001b[0m\u001b[0;34m\u001b[0m\u001b[0m\n\u001b[1;32m    210\u001b[0m \u001b[0;34m\u001b[0m\u001b[0m\n",
            "\u001b[0;32m/usr/local/lib/python3.6/dist-packages/pandas/core/computation/expressions.py\u001b[0m in \u001b[0;36m_evaluate_numexpr\u001b[0;34m(op, op_str, a, b, truediv, reversed, **eval_kwargs)\u001b[0m\n\u001b[1;32m    121\u001b[0m \u001b[0;34m\u001b[0m\u001b[0m\n\u001b[1;32m    122\u001b[0m     \u001b[0;32mif\u001b[0m \u001b[0mresult\u001b[0m \u001b[0;32mis\u001b[0m \u001b[0;32mNone\u001b[0m\u001b[0;34m:\u001b[0m\u001b[0;34m\u001b[0m\u001b[0;34m\u001b[0m\u001b[0m\n\u001b[0;32m--> 123\u001b[0;31m         \u001b[0mresult\u001b[0m \u001b[0;34m=\u001b[0m \u001b[0m_evaluate_standard\u001b[0m\u001b[0;34m(\u001b[0m\u001b[0mop\u001b[0m\u001b[0;34m,\u001b[0m \u001b[0mop_str\u001b[0m\u001b[0;34m,\u001b[0m \u001b[0ma\u001b[0m\u001b[0;34m,\u001b[0m \u001b[0mb\u001b[0m\u001b[0;34m)\u001b[0m\u001b[0;34m\u001b[0m\u001b[0;34m\u001b[0m\u001b[0m\n\u001b[0m\u001b[1;32m    124\u001b[0m \u001b[0;34m\u001b[0m\u001b[0m\n\u001b[1;32m    125\u001b[0m     \u001b[0;32mreturn\u001b[0m \u001b[0mresult\u001b[0m\u001b[0;34m\u001b[0m\u001b[0;34m\u001b[0m\u001b[0m\n",
            "\u001b[0;32m/usr/local/lib/python3.6/dist-packages/pandas/core/computation/expressions.py\u001b[0m in \u001b[0;36m_evaluate_standard\u001b[0;34m(op, op_str, a, b, **eval_kwargs)\u001b[0m\n\u001b[1;32m     66\u001b[0m         \u001b[0m_store_test_result\u001b[0m\u001b[0;34m(\u001b[0m\u001b[0;32mFalse\u001b[0m\u001b[0;34m)\u001b[0m\u001b[0;34m\u001b[0m\u001b[0;34m\u001b[0m\u001b[0m\n\u001b[1;32m     67\u001b[0m     \u001b[0;32mwith\u001b[0m \u001b[0mnp\u001b[0m\u001b[0;34m.\u001b[0m\u001b[0merrstate\u001b[0m\u001b[0;34m(\u001b[0m\u001b[0mall\u001b[0m\u001b[0;34m=\u001b[0m\u001b[0;34m'ignore'\u001b[0m\u001b[0;34m)\u001b[0m\u001b[0;34m:\u001b[0m\u001b[0;34m\u001b[0m\u001b[0;34m\u001b[0m\u001b[0m\n\u001b[0;32m---> 68\u001b[0;31m         \u001b[0;32mreturn\u001b[0m \u001b[0mop\u001b[0m\u001b[0;34m(\u001b[0m\u001b[0ma\u001b[0m\u001b[0;34m,\u001b[0m \u001b[0mb\u001b[0m\u001b[0;34m)\u001b[0m\u001b[0;34m\u001b[0m\u001b[0;34m\u001b[0m\u001b[0m\n\u001b[0m\u001b[1;32m     69\u001b[0m \u001b[0;34m\u001b[0m\u001b[0m\n\u001b[1;32m     70\u001b[0m \u001b[0;34m\u001b[0m\u001b[0m\n",
            "\u001b[0;32m/usr/local/lib/python3.6/dist-packages/pandas/core/ops.py\u001b[0m in \u001b[0;36mcolumn_op\u001b[0;34m(a, b)\u001b[0m\n\u001b[1;32m   1126\u001b[0m         \u001b[0;32mdef\u001b[0m \u001b[0mcolumn_op\u001b[0m\u001b[0;34m(\u001b[0m\u001b[0ma\u001b[0m\u001b[0;34m,\u001b[0m \u001b[0mb\u001b[0m\u001b[0;34m)\u001b[0m\u001b[0;34m:\u001b[0m\u001b[0;34m\u001b[0m\u001b[0;34m\u001b[0m\u001b[0m\n\u001b[1;32m   1127\u001b[0m             return {i: func(a.iloc[:, i], b)\n\u001b[0;32m-> 1128\u001b[0;31m                     for i in range(len(a.columns))}\n\u001b[0m\u001b[1;32m   1129\u001b[0m \u001b[0;34m\u001b[0m\u001b[0m\n\u001b[1;32m   1130\u001b[0m     \u001b[0;32melif\u001b[0m \u001b[0misinstance\u001b[0m\u001b[0;34m(\u001b[0m\u001b[0mright\u001b[0m\u001b[0;34m,\u001b[0m \u001b[0mABCDataFrame\u001b[0m\u001b[0;34m)\u001b[0m\u001b[0;34m:\u001b[0m\u001b[0;34m\u001b[0m\u001b[0;34m\u001b[0m\u001b[0m\n",
            "\u001b[0;32m/usr/local/lib/python3.6/dist-packages/pandas/core/ops.py\u001b[0m in \u001b[0;36m<dictcomp>\u001b[0;34m(.0)\u001b[0m\n\u001b[1;32m   1126\u001b[0m         \u001b[0;32mdef\u001b[0m \u001b[0mcolumn_op\u001b[0m\u001b[0;34m(\u001b[0m\u001b[0ma\u001b[0m\u001b[0;34m,\u001b[0m \u001b[0mb\u001b[0m\u001b[0;34m)\u001b[0m\u001b[0;34m:\u001b[0m\u001b[0;34m\u001b[0m\u001b[0;34m\u001b[0m\u001b[0m\n\u001b[1;32m   1127\u001b[0m             return {i: func(a.iloc[:, i], b)\n\u001b[0;32m-> 1128\u001b[0;31m                     for i in range(len(a.columns))}\n\u001b[0m\u001b[1;32m   1129\u001b[0m \u001b[0;34m\u001b[0m\u001b[0m\n\u001b[1;32m   1130\u001b[0m     \u001b[0;32melif\u001b[0m \u001b[0misinstance\u001b[0m\u001b[0;34m(\u001b[0m\u001b[0mright\u001b[0m\u001b[0;34m,\u001b[0m \u001b[0mABCDataFrame\u001b[0m\u001b[0;34m)\u001b[0m\u001b[0;34m:\u001b[0m\u001b[0;34m\u001b[0m\u001b[0;34m\u001b[0m\u001b[0m\n",
            "\u001b[0;32m/usr/local/lib/python3.6/dist-packages/pandas/core/ops.py\u001b[0m in \u001b[0;36mror_\u001b[0;34m(left, right)\u001b[0m\n\u001b[1;32m    189\u001b[0m \u001b[0;34m\u001b[0m\u001b[0m\n\u001b[1;32m    190\u001b[0m \u001b[0;32mdef\u001b[0m \u001b[0mror_\u001b[0m\u001b[0;34m(\u001b[0m\u001b[0mleft\u001b[0m\u001b[0;34m,\u001b[0m \u001b[0mright\u001b[0m\u001b[0;34m)\u001b[0m\u001b[0;34m:\u001b[0m\u001b[0;34m\u001b[0m\u001b[0;34m\u001b[0m\u001b[0m\n\u001b[0;32m--> 191\u001b[0;31m     \u001b[0;32mreturn\u001b[0m \u001b[0moperator\u001b[0m\u001b[0;34m.\u001b[0m\u001b[0mor_\u001b[0m\u001b[0;34m(\u001b[0m\u001b[0mright\u001b[0m\u001b[0;34m,\u001b[0m \u001b[0mleft\u001b[0m\u001b[0;34m)\u001b[0m\u001b[0;34m\u001b[0m\u001b[0;34m\u001b[0m\u001b[0m\n\u001b[0m\u001b[1;32m    192\u001b[0m \u001b[0;34m\u001b[0m\u001b[0m\n\u001b[1;32m    193\u001b[0m \u001b[0;34m\u001b[0m\u001b[0m\n",
            "\u001b[0;32m/usr/local/lib/python3.6/dist-packages/pandas/core/ops.py\u001b[0m in \u001b[0;36mwrapper\u001b[0;34m(self, other)\u001b[0m\n\u001b[1;32m   1848\u001b[0m         filler = (fill_int if is_self_int_dtype and is_other_int_dtype\n\u001b[1;32m   1849\u001b[0m                   else fill_bool)\n\u001b[0;32m-> 1850\u001b[0;31m         \u001b[0mres_values\u001b[0m \u001b[0;34m=\u001b[0m \u001b[0mna_op\u001b[0m\u001b[0;34m(\u001b[0m\u001b[0mself\u001b[0m\u001b[0;34m.\u001b[0m\u001b[0mvalues\u001b[0m\u001b[0;34m,\u001b[0m \u001b[0movalues\u001b[0m\u001b[0;34m)\u001b[0m\u001b[0;34m\u001b[0m\u001b[0;34m\u001b[0m\u001b[0m\n\u001b[0m\u001b[1;32m   1851\u001b[0m         unfilled = self._constructor(res_values,\n\u001b[1;32m   1852\u001b[0m                                      index=self.index, name=res_name)\n",
            "\u001b[0;32m/usr/local/lib/python3.6/dist-packages/pandas/core/ops.py\u001b[0m in \u001b[0;36mna_op\u001b[0;34m(x, y)\u001b[0m\n\u001b[1;32m   1808\u001b[0m                                     \u001b[0;34m\"with a scalar of type [{typ}]\"\u001b[0m\u001b[0;34m\u001b[0m\u001b[0;34m\u001b[0m\u001b[0m\n\u001b[1;32m   1809\u001b[0m                                     .format(dtype=x.dtype,\n\u001b[0;32m-> 1810\u001b[0;31m                                             typ=type(y).__name__))\n\u001b[0m\u001b[1;32m   1811\u001b[0m \u001b[0;34m\u001b[0m\u001b[0m\n\u001b[1;32m   1812\u001b[0m         \u001b[0;32mreturn\u001b[0m \u001b[0mresult\u001b[0m\u001b[0;34m\u001b[0m\u001b[0;34m\u001b[0m\u001b[0m\n",
            "\u001b[0;31mTypeError\u001b[0m: cannot compare a dtyped [bool] array with a scalar of type [NoneType]"
          ]
        }
      ]
    },
    {
      "cell_type": "code",
      "metadata": {
        "id": "-qGMDCehg7Nr",
        "colab_type": "code",
        "colab": {}
      },
      "source": [
        "cell_lines_data= cell_lines_data[~((cell_lines_data < (Q1 - 1.5 * IQR)) |(cell_lines_data > (Q3 + 1.5 * IQR))).any(axis=1)]"
      ],
      "execution_count": 0,
      "outputs": []
    },
    {
      "cell_type": "code",
      "metadata": {
        "id": "AHUJ9ABYiIdf",
        "colab_type": "code",
        "outputId": "561f80ea-9920-4913-cd24-47313b0c356f",
        "colab": {
          "base_uri": "https://localhost:8080/",
          "height": 35
        }
      },
      "source": [
        "cell_lines_data.shape"
      ],
      "execution_count": 0,
      "outputs": [
        {
          "output_type": "execute_result",
          "data": {
            "text/plain": [
              "(3123339, 44)"
            ]
          },
          "metadata": {
            "tags": []
          },
          "execution_count": 28
        }
      ]
    },
    {
      "cell_type": "code",
      "metadata": {
        "id": "NEdRErJI5jyd",
        "colab_type": "code",
        "colab": {}
      },
      "source": [
        "from sklearn.model_selection import train_test_split\n",
        "from sklearn import linear_model\n",
        "from sklearn.preprocessing import StandardScaler\n",
        "from sklearn.metrics import mean_squared_error, r2_score\n",
        "import xgboost as xgb"
      ],
      "execution_count": 0,
      "outputs": []
    },
    {
      "cell_type": "code",
      "metadata": {
        "id": "F_qMv52lbQb8",
        "colab_type": "code",
        "outputId": "af05d89c-03b7-4db9-896d-7b1b2ce191b7",
        "colab": {
          "base_uri": "https://localhost:8080/",
          "height": 226
        }
      },
      "source": [
        "cell_lines_data.head()"
      ],
      "execution_count": 0,
      "outputs": [
        {
          "output_type": "execute_result",
          "data": {
            "text/html": [
              "<div>\n",
              "<style scoped>\n",
              "    .dataframe tbody tr th:only-of-type {\n",
              "        vertical-align: middle;\n",
              "    }\n",
              "\n",
              "    .dataframe tbody tr th {\n",
              "        vertical-align: top;\n",
              "    }\n",
              "\n",
              "    .dataframe thead th {\n",
              "        text-align: right;\n",
              "    }\n",
              "</style>\n",
              "<table border=\"1\" class=\"dataframe\">\n",
              "  <thead>\n",
              "    <tr style=\"text-align: right;\">\n",
              "      <th></th>\n",
              "      <th>time</th>\n",
              "      <th>b.CATENIN</th>\n",
              "      <th>cleavedCas</th>\n",
              "      <th>CyclinB</th>\n",
              "      <th>GAPDH</th>\n",
              "      <th>IdU</th>\n",
              "      <th>Ki.67</th>\n",
              "      <th>p.4EBP1</th>\n",
              "      <th>p.Akt.Ser473.</th>\n",
              "      <th>p.AKT.Thr308.</th>\n",
              "      <th>p.AMPK</th>\n",
              "      <th>p.BTK</th>\n",
              "      <th>p.CREB</th>\n",
              "      <th>p.ERK</th>\n",
              "      <th>p.FAK</th>\n",
              "      <th>p.GSK3b</th>\n",
              "      <th>p.H3</th>\n",
              "      <th>p.HER2</th>\n",
              "      <th>p.JNK</th>\n",
              "      <th>p.MAP2K3</th>\n",
              "      <th>p.MAPKAPK2</th>\n",
              "      <th>p.MEK</th>\n",
              "      <th>p.MKK3.MKK6</th>\n",
              "      <th>p.MKK4</th>\n",
              "      <th>p.NFkB</th>\n",
              "      <th>p.p38</th>\n",
              "      <th>p.p53</th>\n",
              "      <th>p.p90RSK</th>\n",
              "      <th>p.PDPK1</th>\n",
              "      <th>p.PLCg2</th>\n",
              "      <th>p.RB</th>\n",
              "      <th>p.S6</th>\n",
              "      <th>p.S6K</th>\n",
              "      <th>p.SMAD23</th>\n",
              "      <th>p.SRC</th>\n",
              "      <th>p.STAT1</th>\n",
              "      <th>p.STAT3</th>\n",
              "      <th>p.STAT5</th>\n",
              "      <th>treatment_iEGFR</th>\n",
              "      <th>treatment_iMEK</th>\n",
              "      <th>treatment_iPI3K</th>\n",
              "      <th>treatment_iPKC</th>\n",
              "      <th>treatment_EGF</th>\n",
              "      <th>treatment_full</th>\n",
              "    </tr>\n",
              "  </thead>\n",
              "  <tbody>\n",
              "    <tr>\n",
              "      <th>36621</th>\n",
              "      <td>0.0</td>\n",
              "      <td>1.688477</td>\n",
              "      <td>3.845703</td>\n",
              "      <td>2.515625</td>\n",
              "      <td>3.591797</td>\n",
              "      <td>6.027344</td>\n",
              "      <td>4.480469</td>\n",
              "      <td>4.535156</td>\n",
              "      <td>3.810547</td>\n",
              "      <td>3.560547</td>\n",
              "      <td>4.296875</td>\n",
              "      <td>4.093750</td>\n",
              "      <td>2.406250</td>\n",
              "      <td>3.962891</td>\n",
              "      <td>2.208984</td>\n",
              "      <td>2.935547</td>\n",
              "      <td>3.652344</td>\n",
              "      <td>5.289062</td>\n",
              "      <td>3.478516</td>\n",
              "      <td>2.390625</td>\n",
              "      <td>3.070312</td>\n",
              "      <td>2.634766</td>\n",
              "      <td>3.490234</td>\n",
              "      <td>4.617188</td>\n",
              "      <td>3.884766</td>\n",
              "      <td>2.607422</td>\n",
              "      <td>2.736328</td>\n",
              "      <td>4.566406</td>\n",
              "      <td>2.554688</td>\n",
              "      <td>3.412109</td>\n",
              "      <td>4.328125</td>\n",
              "      <td>5.457031</td>\n",
              "      <td>3.537109</td>\n",
              "      <td>3.019531</td>\n",
              "      <td>3.021484</td>\n",
              "      <td>3.724609</td>\n",
              "      <td>2.013672</td>\n",
              "      <td>2.429688</td>\n",
              "      <td>0</td>\n",
              "      <td>0</td>\n",
              "      <td>0</td>\n",
              "      <td>0</td>\n",
              "      <td>1</td>\n",
              "      <td>0</td>\n",
              "    </tr>\n",
              "    <tr>\n",
              "      <th>36622</th>\n",
              "      <td>0.0</td>\n",
              "      <td>0.724609</td>\n",
              "      <td>3.158203</td>\n",
              "      <td>1.881836</td>\n",
              "      <td>3.322266</td>\n",
              "      <td>4.250000</td>\n",
              "      <td>2.494141</td>\n",
              "      <td>2.882812</td>\n",
              "      <td>1.825195</td>\n",
              "      <td>2.966797</td>\n",
              "      <td>3.720703</td>\n",
              "      <td>3.308594</td>\n",
              "      <td>0.342773</td>\n",
              "      <td>3.412109</td>\n",
              "      <td>2.406250</td>\n",
              "      <td>2.751953</td>\n",
              "      <td>2.171875</td>\n",
              "      <td>4.957031</td>\n",
              "      <td>2.658203</td>\n",
              "      <td>0.451660</td>\n",
              "      <td>0.499023</td>\n",
              "      <td>2.425781</td>\n",
              "      <td>2.636719</td>\n",
              "      <td>3.177734</td>\n",
              "      <td>1.857422</td>\n",
              "      <td>1.881836</td>\n",
              "      <td>2.259766</td>\n",
              "      <td>3.230469</td>\n",
              "      <td>1.853516</td>\n",
              "      <td>1.074219</td>\n",
              "      <td>5.195312</td>\n",
              "      <td>3.121094</td>\n",
              "      <td>2.425781</td>\n",
              "      <td>1.933594</td>\n",
              "      <td>0.554199</td>\n",
              "      <td>1.612305</td>\n",
              "      <td>2.392578</td>\n",
              "      <td>2.392578</td>\n",
              "      <td>0</td>\n",
              "      <td>0</td>\n",
              "      <td>0</td>\n",
              "      <td>0</td>\n",
              "      <td>1</td>\n",
              "      <td>0</td>\n",
              "    </tr>\n",
              "    <tr>\n",
              "      <th>36624</th>\n",
              "      <td>0.0</td>\n",
              "      <td>1.544922</td>\n",
              "      <td>3.087891</td>\n",
              "      <td>2.962891</td>\n",
              "      <td>3.257812</td>\n",
              "      <td>4.250000</td>\n",
              "      <td>3.794922</td>\n",
              "      <td>4.468750</td>\n",
              "      <td>3.601562</td>\n",
              "      <td>2.693359</td>\n",
              "      <td>4.152344</td>\n",
              "      <td>4.515625</td>\n",
              "      <td>1.091797</td>\n",
              "      <td>4.218750</td>\n",
              "      <td>2.779297</td>\n",
              "      <td>4.007812</td>\n",
              "      <td>3.476562</td>\n",
              "      <td>4.792969</td>\n",
              "      <td>2.121094</td>\n",
              "      <td>1.424805</td>\n",
              "      <td>3.439453</td>\n",
              "      <td>3.066406</td>\n",
              "      <td>2.511719</td>\n",
              "      <td>4.484375</td>\n",
              "      <td>3.603516</td>\n",
              "      <td>2.943359</td>\n",
              "      <td>3.031250</td>\n",
              "      <td>5.437500</td>\n",
              "      <td>2.232422</td>\n",
              "      <td>3.322266</td>\n",
              "      <td>3.802734</td>\n",
              "      <td>8.203125</td>\n",
              "      <td>2.925781</td>\n",
              "      <td>2.060547</td>\n",
              "      <td>3.203125</td>\n",
              "      <td>3.439453</td>\n",
              "      <td>3.939453</td>\n",
              "      <td>2.419922</td>\n",
              "      <td>0</td>\n",
              "      <td>0</td>\n",
              "      <td>0</td>\n",
              "      <td>0</td>\n",
              "      <td>1</td>\n",
              "      <td>0</td>\n",
              "    </tr>\n",
              "    <tr>\n",
              "      <th>36627</th>\n",
              "      <td>0.0</td>\n",
              "      <td>1.393555</td>\n",
              "      <td>2.212891</td>\n",
              "      <td>1.205078</td>\n",
              "      <td>3.574219</td>\n",
              "      <td>5.105469</td>\n",
              "      <td>3.412109</td>\n",
              "      <td>3.593750</td>\n",
              "      <td>2.523438</td>\n",
              "      <td>2.675781</td>\n",
              "      <td>3.339844</td>\n",
              "      <td>3.306641</td>\n",
              "      <td>0.342773</td>\n",
              "      <td>2.521484</td>\n",
              "      <td>2.085938</td>\n",
              "      <td>1.711914</td>\n",
              "      <td>3.619141</td>\n",
              "      <td>4.679688</td>\n",
              "      <td>1.816406</td>\n",
              "      <td>1.195312</td>\n",
              "      <td>1.751953</td>\n",
              "      <td>2.423828</td>\n",
              "      <td>2.753906</td>\n",
              "      <td>2.750000</td>\n",
              "      <td>3.019531</td>\n",
              "      <td>0.960938</td>\n",
              "      <td>2.226562</td>\n",
              "      <td>2.830078</td>\n",
              "      <td>2.220703</td>\n",
              "      <td>1.970703</td>\n",
              "      <td>4.085938</td>\n",
              "      <td>6.167969</td>\n",
              "      <td>2.718750</td>\n",
              "      <td>2.796875</td>\n",
              "      <td>2.044922</td>\n",
              "      <td>2.988281</td>\n",
              "      <td>3.359375</td>\n",
              "      <td>1.941406</td>\n",
              "      <td>0</td>\n",
              "      <td>0</td>\n",
              "      <td>0</td>\n",
              "      <td>0</td>\n",
              "      <td>1</td>\n",
              "      <td>0</td>\n",
              "    </tr>\n",
              "    <tr>\n",
              "      <th>36628</th>\n",
              "      <td>0.0</td>\n",
              "      <td>0.473145</td>\n",
              "      <td>3.291016</td>\n",
              "      <td>2.251953</td>\n",
              "      <td>3.326172</td>\n",
              "      <td>5.503906</td>\n",
              "      <td>6.347656</td>\n",
              "      <td>4.753906</td>\n",
              "      <td>1.800781</td>\n",
              "      <td>3.207031</td>\n",
              "      <td>4.308594</td>\n",
              "      <td>3.957031</td>\n",
              "      <td>1.287109</td>\n",
              "      <td>3.259766</td>\n",
              "      <td>2.587891</td>\n",
              "      <td>2.539062</td>\n",
              "      <td>2.443359</td>\n",
              "      <td>4.054688</td>\n",
              "      <td>2.806641</td>\n",
              "      <td>1.525391</td>\n",
              "      <td>3.220703</td>\n",
              "      <td>2.644531</td>\n",
              "      <td>2.691406</td>\n",
              "      <td>3.947266</td>\n",
              "      <td>3.097656</td>\n",
              "      <td>2.318359</td>\n",
              "      <td>3.634766</td>\n",
              "      <td>4.187500</td>\n",
              "      <td>2.291016</td>\n",
              "      <td>0.986328</td>\n",
              "      <td>4.515625</td>\n",
              "      <td>5.515625</td>\n",
              "      <td>2.255859</td>\n",
              "      <td>2.601562</td>\n",
              "      <td>2.593750</td>\n",
              "      <td>3.146484</td>\n",
              "      <td>3.244141</td>\n",
              "      <td>2.146484</td>\n",
              "      <td>0</td>\n",
              "      <td>0</td>\n",
              "      <td>0</td>\n",
              "      <td>0</td>\n",
              "      <td>1</td>\n",
              "      <td>0</td>\n",
              "    </tr>\n",
              "  </tbody>\n",
              "</table>\n",
              "</div>"
            ],
            "text/plain": [
              "       time  b.CATENIN  ...  treatment_EGF  treatment_full\n",
              "36621   0.0   1.688477  ...              1               0\n",
              "36622   0.0   0.724609  ...              1               0\n",
              "36624   0.0   1.544922  ...              1               0\n",
              "36627   0.0   1.393555  ...              1               0\n",
              "36628   0.0   0.473145  ...              1               0\n",
              "\n",
              "[5 rows x 44 columns]"
            ]
          },
          "metadata": {
            "tags": []
          },
          "execution_count": 40
        }
      ]
    },
    {
      "cell_type": "code",
      "metadata": {
        "id": "-L144aX150rT",
        "colab_type": "code",
        "colab": {}
      },
      "source": [
        "markers =  ['p.ERK', 'p.PLCg2', 'p.HER2', 'p.S6', 'p.Akt.Ser473.']\n",
        "y = cell_lines_data[markers]"
      ],
      "execution_count": 0,
      "outputs": []
    },
    {
      "cell_type": "code",
      "metadata": {
        "id": "QCVerTMhjTge",
        "colab_type": "code",
        "colab": {}
      },
      "source": [
        "temp = set(cell_lines_data.columns.values) - set(markers)\n",
        "X = cell_lines_data[list(temp)]"
      ],
      "execution_count": 0,
      "outputs": []
    },
    {
      "cell_type": "code",
      "metadata": {
        "id": "jnovUjKjjcAu",
        "colab_type": "code",
        "outputId": "5c1daaa2-4be1-4062-9564-1f0bd614fc20",
        "colab": {
          "base_uri": "https://localhost:8080/",
          "height": 300
        }
      },
      "source": [
        "y.describe()"
      ],
      "execution_count": 0,
      "outputs": [
        {
          "output_type": "execute_result",
          "data": {
            "text/html": [
              "<div>\n",
              "<style scoped>\n",
              "    .dataframe tbody tr th:only-of-type {\n",
              "        vertical-align: middle;\n",
              "    }\n",
              "\n",
              "    .dataframe tbody tr th {\n",
              "        vertical-align: top;\n",
              "    }\n",
              "\n",
              "    .dataframe thead th {\n",
              "        text-align: right;\n",
              "    }\n",
              "</style>\n",
              "<table border=\"1\" class=\"dataframe\">\n",
              "  <thead>\n",
              "    <tr style=\"text-align: right;\">\n",
              "      <th></th>\n",
              "      <th>p.ERK</th>\n",
              "      <th>p.PLCg2</th>\n",
              "      <th>p.HER2</th>\n",
              "      <th>p.S6</th>\n",
              "      <th>p.Akt.Ser473.</th>\n",
              "    </tr>\n",
              "  </thead>\n",
              "  <tbody>\n",
              "    <tr>\n",
              "      <th>count</th>\n",
              "      <td>3.123339e+06</td>\n",
              "      <td>2.797043e+06</td>\n",
              "      <td>2.436967e+06</td>\n",
              "      <td>3.123339e+06</td>\n",
              "      <td>3.123339e+06</td>\n",
              "    </tr>\n",
              "    <tr>\n",
              "      <th>mean</th>\n",
              "      <td>NaN</td>\n",
              "      <td>NaN</td>\n",
              "      <td>NaN</td>\n",
              "      <td>NaN</td>\n",
              "      <td>NaN</td>\n",
              "    </tr>\n",
              "    <tr>\n",
              "      <th>std</th>\n",
              "      <td>0.000000e+00</td>\n",
              "      <td>0.000000e+00</td>\n",
              "      <td>0.000000e+00</td>\n",
              "      <td>0.000000e+00</td>\n",
              "      <td>0.000000e+00</td>\n",
              "    </tr>\n",
              "    <tr>\n",
              "      <th>min</th>\n",
              "      <td>-1.384277e-01</td>\n",
              "      <td>3.581543e-01</td>\n",
              "      <td>1.826172e+00</td>\n",
              "      <td>1.907227e+00</td>\n",
              "      <td>4.484863e-01</td>\n",
              "    </tr>\n",
              "    <tr>\n",
              "      <th>25%</th>\n",
              "      <td>2.826172e+00</td>\n",
              "      <td>1.555664e+00</td>\n",
              "      <td>3.919922e+00</td>\n",
              "      <td>4.695312e+00</td>\n",
              "      <td>3.007812e+00</td>\n",
              "    </tr>\n",
              "    <tr>\n",
              "      <th>50%</th>\n",
              "      <td>3.490234e+00</td>\n",
              "      <td>2.544922e+00</td>\n",
              "      <td>4.535156e+00</td>\n",
              "      <td>5.933594e+00</td>\n",
              "      <td>3.892578e+00</td>\n",
              "    </tr>\n",
              "    <tr>\n",
              "      <th>75%</th>\n",
              "      <td>4.050781e+00</td>\n",
              "      <td>3.476562e+00</td>\n",
              "      <td>5.121094e+00</td>\n",
              "      <td>6.882812e+00</td>\n",
              "      <td>4.632812e+00</td>\n",
              "    </tr>\n",
              "    <tr>\n",
              "      <th>max</th>\n",
              "      <td>6.281250e+00</td>\n",
              "      <td>6.402344e+00</td>\n",
              "      <td>7.000000e+00</td>\n",
              "      <td>1.009375e+01</td>\n",
              "      <td>7.339844e+00</td>\n",
              "    </tr>\n",
              "  </tbody>\n",
              "</table>\n",
              "</div>"
            ],
            "text/plain": [
              "              p.ERK       p.PLCg2        p.HER2          p.S6  p.Akt.Ser473.\n",
              "count  3.123339e+06  2.797043e+06  2.436967e+06  3.123339e+06   3.123339e+06\n",
              "mean            NaN           NaN           NaN           NaN            NaN\n",
              "std    0.000000e+00  0.000000e+00  0.000000e+00  0.000000e+00   0.000000e+00\n",
              "min   -1.384277e-01  3.581543e-01  1.826172e+00  1.907227e+00   4.484863e-01\n",
              "25%    2.826172e+00  1.555664e+00  3.919922e+00  4.695312e+00   3.007812e+00\n",
              "50%    3.490234e+00  2.544922e+00  4.535156e+00  5.933594e+00   3.892578e+00\n",
              "75%    4.050781e+00  3.476562e+00  5.121094e+00  6.882812e+00   4.632812e+00\n",
              "max    6.281250e+00  6.402344e+00  7.000000e+00  1.009375e+01   7.339844e+00"
            ]
          },
          "metadata": {
            "tags": []
          },
          "execution_count": 43
        }
      ]
    },
    {
      "cell_type": "code",
      "metadata": {
        "id": "njjyquQrjea9",
        "colab_type": "code",
        "colab": {}
      },
      "source": [
        "X_train, X_test_vald, y_train, y_test_vald = train_test_split(\n",
        "    X, y, test_size=0.30, random_state=42)"
      ],
      "execution_count": 0,
      "outputs": []
    },
    {
      "cell_type": "code",
      "metadata": {
        "id": "-gF3b4q9jr82",
        "colab_type": "code",
        "colab": {}
      },
      "source": [
        "X_vald, X_test, y_vald, y_test = train_test_split(\n",
        "    X_test_vald, y_test_vald, test_size=0.3, random_state=42)"
      ],
      "execution_count": 0,
      "outputs": []
    },
    {
      "cell_type": "code",
      "metadata": {
        "id": "XVtEihzIjvX2",
        "colab_type": "code",
        "outputId": "3a108a06-7039-4874-b5f4-96b609ebdf7d",
        "colab": {
          "base_uri": "https://localhost:8080/",
          "height": 35
        }
      },
      "source": [
        "scaler = StandardScaler()\n",
        "scaler.fit(X_train.values)"
      ],
      "execution_count": 0,
      "outputs": [
        {
          "output_type": "execute_result",
          "data": {
            "text/plain": [
              "StandardScaler(copy=True, with_mean=True, with_std=True)"
            ]
          },
          "metadata": {
            "tags": []
          },
          "execution_count": 46
        }
      ]
    },
    {
      "cell_type": "code",
      "metadata": {
        "id": "DMDim6l9j2yk",
        "colab_type": "code",
        "colab": {}
      },
      "source": [
        "X_train = scaler.transform(X_train.values)\n",
        "X_vald = scaler.transform(X_vald.values)\n",
        "X_test = scaler.transform(X_test.values)"
      ],
      "execution_count": 0,
      "outputs": []
    },
    {
      "cell_type": "code",
      "metadata": {
        "id": "GvjRCA_gj6AV",
        "colab_type": "code",
        "outputId": "9988a3da-955c-4410-a273-c6228789b9b9",
        "colab": {
          "base_uri": "https://localhost:8080/",
          "height": 72
        }
      },
      "source": [
        "print(X_train.shape)\n",
        "print(X_vald.shape)\n",
        "print(X_test.shape)"
      ],
      "execution_count": 0,
      "outputs": [
        {
          "output_type": "stream",
          "text": [
            "(2186337, 39)\n",
            "(655901, 39)\n",
            "(281101, 39)\n"
          ],
          "name": "stdout"
        }
      ]
    },
    {
      "cell_type": "code",
      "metadata": {
        "id": "poV7Fwf3j8So",
        "colab_type": "code",
        "outputId": "b2340abf-a0e0-4fae-8e2b-699188a73722",
        "colab": {
          "base_uri": "https://localhost:8080/",
          "height": 660
        }
      },
      "source": [
        "clfs = list()\n",
        "for cl in markers:\n",
        "  print(\"***********   \"  +cl+ \"  *******\")\n",
        "  plc_ind  = np.where(y_train[cl].isnull() == False)[0]\n",
        "  plc_data = X_train[plc_ind]\n",
        "  plc_train_y = y_train.iloc[plc_ind][cl]\n",
        "\n",
        "  plc_test_ind = np.where(y_test[cl].isnull() == False)[0]\n",
        "  plc_test_data = X_test[plc_test_ind]\n",
        "\n",
        "  temp_clf = linear_model.SGDRegressor(max_iter=1, tol=1e-3)\n",
        "  count = 0\n",
        "  size = plc_data.shape[0]\n",
        "  \n",
        "  while(count < size):\n",
        "    temp_clf.partial_fit(plc_data[count:count+size//10, :],  plc_train_y[count:count+size//10])\n",
        "    count += size//10\n",
        "  \n",
        "  clfs.append(temp_clf)\n",
        "  \n",
        "  plc_ind  = np.where(y_vald[cl].isnull() == False)[0]\n",
        "  \n",
        "  plc_pred = temp_clf.predict(X_vald[plc_ind])\n",
        "\n",
        "  plc_pred_train = temp_clf.predict(plc_data)\n",
        "  plc_pred_test = temp_clf.predict(plc_test_data)\n",
        " \n",
        "  print(\"rmse score (train): \"+str(np.sqrt(mean_squared_error(plc_train_y, plc_pred_train))))\n",
        "  print(\"r2 score (train): \"+str(r2_score(plc_train_y, plc_pred_train)))\n",
        "\n",
        "  print(\"rmse score (vald): \"+str(np.sqrt(mean_squared_error(y_vald.iloc[plc_ind][cl], plc_pred))))\n",
        "  print(\"r2 score (vald): \"+str(r2_score(y_vald.iloc[plc_ind][cl], plc_pred)))\n",
        "  \n",
        "  print(\"rmse score (test): \"+str(np.sqrt(mean_squared_error(y_test.iloc[plc_test_ind][cl], plc_pred_test))))\n",
        "  print(\"r2 score (test): \"+str(r2_score(y_test.iloc[plc_test_ind][cl], plc_pred_test)))\n",
        "  "
      ],
      "execution_count": 0,
      "outputs": [
        {
          "output_type": "stream",
          "text": [
            "***********   p.ERK  *******\n",
            "rmse score (train): 0.6202223278316227\n",
            "r2 score (train): 0.5648805607001011\n",
            "rmse score (vald): 0.6213139505207969\n",
            "r2 score (vald): 0.5650178101943857\n",
            "rmse score (test): 0.6208135271220953\n",
            "r2 score (test): 0.5643799711029255\n",
            "***********   p.PLCg2  *******\n",
            "rmse score (train): 0.7310839232562575\n",
            "r2 score (train): 0.621301876077792\n",
            "rmse score (vald): 0.7309378968263586\n",
            "r2 score (vald): 0.6212471433142142\n",
            "rmse score (test): 0.730474487516016\n",
            "r2 score (test): 0.6220316976274518\n",
            "***********   p.HER2  *******\n",
            "rmse score (train): 0.5272394246257504\n",
            "r2 score (train): 0.6431832232133095\n",
            "rmse score (vald): 0.5286155008057098\n",
            "r2 score (vald): 0.6422610044996748\n",
            "rmse score (test): 0.52779498326416\n",
            "r2 score (test): 0.6448285674130697\n",
            "***********   p.S6  *******\n",
            "rmse score (train): 1.0721195975387152\n",
            "r2 score (train): 0.481215268883289\n",
            "rmse score (vald): 1.0728725381499906\n",
            "r2 score (vald): 0.4816261912582719\n",
            "rmse score (test): 1.0743921634626854\n",
            "r2 score (test): 0.48058989312675826\n",
            "***********   p.Akt.Ser473.  *******\n",
            "rmse score (train): 0.7342949528645973\n",
            "r2 score (train): 0.5674700391864176\n",
            "rmse score (vald): 0.735082099543329\n",
            "r2 score (vald): 0.566434676698083\n",
            "rmse score (test): 0.7337724962198228\n",
            "r2 score (test): 0.5680395779178038\n"
          ],
          "name": "stdout"
        }
      ]
    },
    {
      "cell_type": "code",
      "metadata": {
        "id": "zg0ouSNZk5Yj",
        "colab_type": "code",
        "colab": {}
      },
      "source": [
        ""
      ],
      "execution_count": 0,
      "outputs": []
    },
    {
      "cell_type": "code",
      "metadata": {
        "id": "-3lYh9EZznaV",
        "colab_type": "code",
        "outputId": "f5411c33-7fe4-4935-aad7-e83312635b93",
        "colab": {
          "base_uri": "https://localhost:8080/",
          "height": 571
        }
      },
      "source": [
        "\n",
        "svm_clfs = dict()\n",
        "\n",
        "for cl in markers:\n",
        "  print(\"***********   \"  +cl+ \"  *******\")\n",
        "\n",
        "  temp_clf = LinearSVR(random_state=0, tol=1e-5, max_iter=1500)\n",
        "  count = 0\n",
        "  \n",
        "  temp_clf.fit(X_train3,  y_train3[cl])\n",
        "\n",
        "  svm_clfs[cl] = temp_clf\n",
        "  \n",
        "  plc_pred = temp_clf.predict(X_train1)\n",
        "  count = 0\n",
        "  plc_pred_train = temp_clf.predict(X_train3)\n",
        "\n",
        "  print(\"rmse score (vald): \"+str(np.sqrt(mean_squared_error(y_train1[cl], plc_pred))))\n",
        "  print(\"r2 score (vald): \"+str(r2_score(y_train1[cl], plc_pred)))\n",
        "  \n",
        "  print(\"rmse score (train): \"+str(np.sqrt(mean_squared_error(y_train3[cl], plc_pred_train))))\n",
        "  print(\"r2 score (train): \"+str(r2_score(y_train3[cl], plc_pred_train)))"
      ],
      "execution_count": 0,
      "outputs": [
        {
          "output_type": "stream",
          "text": [
            "***********   p.ERK  *******\n"
          ],
          "name": "stdout"
        },
        {
          "output_type": "stream",
          "text": [
            "/usr/local/lib/python3.6/dist-packages/sklearn/svm/base.py:929: ConvergenceWarning: Liblinear failed to converge, increase the number of iterations.\n",
            "  \"the number of iterations.\", ConvergenceWarning)\n"
          ],
          "name": "stderr"
        },
        {
          "output_type": "stream",
          "text": [
            "rmse score (vald): 0.690944432488308\n",
            "r2 score (vald): 0.61385521112211\n",
            "rmse score (train): 0.6904028220630919\n",
            "r2 score (train): 0.614107335865452\n",
            "***********   p.PLCg2  *******\n"
          ],
          "name": "stdout"
        },
        {
          "output_type": "stream",
          "text": [
            "/usr/local/lib/python3.6/dist-packages/sklearn/svm/base.py:929: ConvergenceWarning: Liblinear failed to converge, increase the number of iterations.\n",
            "  \"the number of iterations.\", ConvergenceWarning)\n"
          ],
          "name": "stderr"
        },
        {
          "output_type": "stream",
          "text": [
            "rmse score (vald): 0.7637210496584734\n",
            "r2 score (vald): 0.6002748326493125\n",
            "rmse score (train): 0.7646332986972904\n",
            "r2 score (train): 0.599231234107926\n",
            "***********   p.HER2  *******\n"
          ],
          "name": "stdout"
        },
        {
          "output_type": "stream",
          "text": [
            "/usr/local/lib/python3.6/dist-packages/sklearn/svm/base.py:929: ConvergenceWarning: Liblinear failed to converge, increase the number of iterations.\n",
            "  \"the number of iterations.\", ConvergenceWarning)\n"
          ],
          "name": "stderr"
        },
        {
          "output_type": "stream",
          "text": [
            "rmse score (vald): 0.5751781321430123\n",
            "r2 score (vald): 0.6577965847994878\n",
            "rmse score (train): 0.5753036561829721\n",
            "r2 score (train): 0.6572500354389266\n",
            "***********   p.S6  *******\n",
            "rmse score (vald): 1.1727977807959944\n",
            "r2 score (vald): 0.4910044660994708\n",
            "rmse score (train): 1.1726794825898224\n",
            "r2 score (train): 0.49052802018726416\n",
            "***********   p.Akt.Ser473.  *******\n"
          ],
          "name": "stdout"
        },
        {
          "output_type": "stream",
          "text": [
            "/usr/local/lib/python3.6/dist-packages/sklearn/svm/base.py:929: ConvergenceWarning: Liblinear failed to converge, increase the number of iterations.\n",
            "  \"the number of iterations.\", ConvergenceWarning)\n"
          ],
          "name": "stderr"
        },
        {
          "output_type": "stream",
          "text": [
            "rmse score (vald): 0.7671429093543211\n",
            "r2 score (vald): 0.6239265134423846\n",
            "rmse score (train): 0.767771567329113\n",
            "r2 score (train): 0.6234751943432548\n"
          ],
          "name": "stdout"
        }
      ]
    }
  ]
}